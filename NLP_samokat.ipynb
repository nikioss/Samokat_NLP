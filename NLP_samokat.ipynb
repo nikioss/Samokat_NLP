{
 "cells": [
  {
   "cell_type": "markdown",
   "id": "572994b2",
   "metadata": {
    "papermill": {
     "duration": 0.010174,
     "end_time": "2025-01-24T17:16:06.825780",
     "exception": false,
     "start_time": "2025-01-24T17:16:06.815606",
     "status": "completed"
    },
    "tags": []
   },
   "source": [
    "# Samokat.Tech NLP\n",
    "# Цель:\n",
    "Создать модель для предсказания тематик, которые затрагиваются в пользовательском ответе на опросы.\n",
    "# Данные:\n",
    "train.csv - файл с ID, текстом из ответа, тегами из ответа и таргетами по каждому классу.\n",
    "test.csv - файл с ID, текстом и тегами из ответа.\n",
    "trends_description.csv - файл с полным описанием меток класса.\n",
    "# План:\n",
    "- Загрузка и анализ данных\n",
    "- Предобработка данных\n",
    "- Исследовательский анализ\n",
    "- Подбор моделей и гиперпараметров\n",
    "- Обучение модели и анализ ошибок\n",
    "- Предсказание на тестовых данных\n",
    "- Заключение"
   ]
  },
  {
   "cell_type": "markdown",
   "id": "9d0b255a",
   "metadata": {
    "papermill": {
     "duration": 0.008977,
     "end_time": "2025-01-24T17:16:06.844203",
     "exception": false,
     "start_time": "2025-01-24T17:16:06.835226",
     "status": "completed"
    },
    "tags": []
   },
   "source": [
    "## Загрузка и анализ"
   ]
  },
  {
   "cell_type": "code",
   "execution_count": 6,
   "id": "d538fd55",
   "metadata": {
    "execution": {
     "iopub.execute_input": "2025-01-24T17:16:26.926510Z",
     "iopub.status.busy": "2025-01-24T17:16:26.926184Z",
     "iopub.status.idle": "2025-01-24T17:16:45.106060Z",
     "shell.execute_reply": "2025-01-24T17:16:45.105210Z"
    },
    "papermill": {
     "duration": 18.192173,
     "end_time": "2025-01-24T17:16:45.108296",
     "exception": false,
     "start_time": "2025-01-24T17:16:26.916123",
     "status": "completed"
    },
    "tags": []
   },
   "outputs": [],
   "source": [
    "import re\n",
    "from collections import Counter\n",
    "import numpy as np\n",
    "import pandas as pd\n",
    "import matplotlib.pyplot as plt\n",
    "import seaborn as sns\n",
    "from tqdm import tqdm\n",
    "\n",
    "import nltk\n",
    "from nltk.tokenize import word_tokenize, TreebankWordTokenizer\n",
    "from nltk.stem import WordNetLemmatizer\n",
    "import emoji\n",
    "import pymorphy2\n",
    "\n",
    "import torch\n",
    "from torch import nn\n",
    "import torch.nn.functional as F\n",
    "from torch.utils.data import Dataset, DataLoader\n",
    "from sklearn.utils.class_weight import compute_class_weight\n",
    "\n",
    "from transformers import (\n",
    "    BertTokenizer,\n",
    "    BertForSequenceClassification,\n",
    "    Trainer,\n",
    "    TrainingArguments,\n",
    "    AutoTokenizer,\n",
    "    AutoModel,\n",
    "    AutoConfig,\n",
    "    AdamW,\n",
    "    get_scheduler,\n",
    ")\n",
    "\n",
    "from sklearn.model_selection import train_test_split, StratifiedKFold\n",
    "from sklearn.metrics import accuracy_score, precision_recall_fscore_support\n",
    "\n",
    "import optuna"
   ]
  },
  {
   "cell_type": "code",
   "execution_count": 7,
   "id": "3605dc37",
   "metadata": {
    "execution": {
     "iopub.execute_input": "2025-01-24T17:16:45.132936Z",
     "iopub.status.busy": "2025-01-24T17:16:45.132358Z",
     "iopub.status.idle": "2025-01-24T17:16:45.136373Z",
     "shell.execute_reply": "2025-01-24T17:16:45.135519Z"
    },
    "papermill": {
     "duration": 0.017235,
     "end_time": "2025-01-24T17:16:45.137810",
     "exception": false,
     "start_time": "2025-01-24T17:16:45.120575",
     "status": "completed"
    },
    "tags": []
   },
   "outputs": [],
   "source": [
    "pd.set_option('display.max_colwidth', None)"
   ]
  },
  {
   "cell_type": "code",
   "execution_count": 8,
   "id": "cd8e93ec",
   "metadata": {
    "execution": {
     "iopub.execute_input": "2025-01-24T17:16:45.160896Z",
     "iopub.status.busy": "2025-01-24T17:16:45.160630Z",
     "iopub.status.idle": "2025-01-24T17:16:45.343131Z",
     "shell.execute_reply": "2025-01-24T17:16:45.342402Z"
    },
    "papermill": {
     "duration": 0.195289,
     "end_time": "2025-01-24T17:16:45.344258",
     "exception": false,
     "start_time": "2025-01-24T17:16:45.148969",
     "status": "completed"
    },
    "tags": []
   },
   "outputs": [
    {
     "name": "stdout",
     "output_type": "stream",
     "text": [
      "[nltk_data] Downloading package punkt to /usr/share/nltk_data...\n",
      "[nltk_data]   Package punkt is already up-to-date!\n"
     ]
    },
    {
     "data": {
      "text/plain": [
       "True"
      ]
     },
     "execution_count": 8,
     "metadata": {},
     "output_type": "execute_result"
    }
   ],
   "source": [
    "nltk.download('punkt')"
   ]
  },
  {
   "cell_type": "code",
   "execution_count": 9,
   "id": "c6216b12",
   "metadata": {
    "_cell_guid": "b1076dfc-b9ad-4769-8c92-a6c4dae69d19",
    "_uuid": "8f2839f25d086af736a60e9eeb907d3b93b6e0e5",
    "execution": {
     "iopub.execute_input": "2025-01-24T17:16:45.364871Z",
     "iopub.status.busy": "2025-01-24T17:16:45.364623Z",
     "iopub.status.idle": "2025-01-24T17:16:45.367980Z",
     "shell.execute_reply": "2025-01-24T17:16:45.367191Z"
    },
    "papermill": {
     "duration": 0.014609,
     "end_time": "2025-01-24T17:16:45.369116",
     "exception": false,
     "start_time": "2025-01-24T17:16:45.354507",
     "status": "completed"
    },
    "tags": []
   },
   "outputs": [],
   "source": [
    "train_csv = '/kaggle/input/samokat-nlp/train.csv'\n",
    "test_csv = '/kaggle/input/samokat-nlp/test.csv'\n"
   ]
  },
  {
   "cell_type": "code",
   "execution_count": 10,
   "id": "33a61169",
   "metadata": {
    "execution": {
     "iopub.execute_input": "2025-01-24T17:16:45.388909Z",
     "iopub.status.busy": "2025-01-24T17:16:45.388706Z",
     "iopub.status.idle": "2025-01-24T17:16:45.616869Z",
     "shell.execute_reply": "2025-01-24T17:16:45.615882Z"
    },
    "papermill": {
     "duration": 0.239517,
     "end_time": "2025-01-24T17:16:45.618148",
     "exception": false,
     "start_time": "2025-01-24T17:16:45.378631",
     "status": "completed"
    },
    "tags": []
   },
   "outputs": [
    {
     "name": "stdout",
     "output_type": "stream",
     "text": [
      "train_data:\n",
      "   index  assessment  \\\n",
      "0   5652         6.0   \n",
      "1  18092         4.0   \n",
      "2  13845         6.0   \n",
      "3  25060         6.0   \n",
      "4  15237         5.0   \n",
      "\n",
      "                                                          tags  \\\n",
      "0                             {ASSORTMENT,PROMOTIONS,DELIVERY}   \n",
      "1                 {ASSORTMENT,PRICE,PRODUCTS_QUALITY,DELIVERY}   \n",
      "2               {DELIVERY,PROMOTIONS,PRICE,ASSORTMENT,SUPPORT}   \n",
      "3                                {PRICE,PROMOTIONS,ASSORTMENT}   \n",
      "4  {ASSORTMENT,PRODUCTS_QUALITY,PROMOTIONS,CATALOG_NAVIGATION}   \n",
      "\n",
      "                                                                                 text  \\\n",
      "0  Маленький выбор товаров, хотелось бы ассортимент больше, а так вроде бы все хорошо   \n",
      "1                                                                              Быстро   \n",
      "2                                                    Доставка постоянно задерживается   \n",
      "3                                                  Наценка и ассортимент расстраивают   \n",
      "4                                                                   Доставка просто 👍   \n",
      "\n",
      "   trend_id_res0  trend_id_res1  trend_id_res2  trend_id_res3  trend_id_res4  \\\n",
      "0              0              0              0              0              0   \n",
      "1              0              0              0              0              0   \n",
      "2              0              0              0              1              0   \n",
      "3              0              0              0              0              0   \n",
      "4              0              0              0              0              0   \n",
      "\n",
      "   trend_id_res5  ...  trend_id_res40  trend_id_res41  trend_id_res42  \\\n",
      "0              0  ...               0               0               0   \n",
      "1              0  ...               0               0               0   \n",
      "2              0  ...               0               0               0   \n",
      "3              0  ...               0               0               0   \n",
      "4              0  ...               0               0               0   \n",
      "\n",
      "   trend_id_res43  trend_id_res44  trend_id_res45  trend_id_res46  \\\n",
      "0               0               0               0               0   \n",
      "1               0               0               0               0   \n",
      "2               0               0               0               0   \n",
      "3               0               0               0               0   \n",
      "4               0               0               0               0   \n",
      "\n",
      "   trend_id_res47  trend_id_res48  trend_id_res49  \n",
      "0               0               0               0  \n",
      "1               0               0               0  \n",
      "2               0               0               0  \n",
      "3               0               0               0  \n",
      "4               0               0               0  \n",
      "\n",
      "[5 rows x 54 columns]\n",
      "\n",
      "test_data:\n",
      "   index  assessment  \\\n",
      "0   5905         5.0   \n",
      "1   3135         3.0   \n",
      "2   9285         5.0   \n",
      "3   4655         2.0   \n",
      "4  16778         5.0   \n",
      "\n",
      "                                                                                         tags  \\\n",
      "0                                                                                {PROMOTIONS}   \n",
      "1                                                                                  {DELIVERY}   \n",
      "2                                                                     {ASSORTMENT,PROMOTIONS}   \n",
      "3                                                                 {PRICE,DELIVERY,ASSORTMENT}   \n",
      "4  {ASSORTMENT,PRODUCTS_QUALITY,PRICE,PROMOTIONS,CATALOG_NAVIGATION,PAYMENT,DELIVERY,SUPPORT}   \n",
      "\n",
      "                                                                                                  text  \n",
      "0                                                                  Крутая компания, удобное приложение  \n",
      "1  Последнее время думаю плохо, сроки доставки давно не [NUM] мин, а цена услуг при этом выше аналогов  \n",
      "2                                                                                             Супер!!!  \n",
      "3                                                         Цены намного выше магазинных но радуют акции  \n",
      "4                                                                                              Отлично  \n"
     ]
    }
   ],
   "source": [
    "train_data = pd.read_csv(train_csv)\n",
    "test_data = pd.read_csv(test_csv)\n",
    "\n",
    "# Первые строки тренировочного датасета\n",
    "print(\"train_data:\")\n",
    "print(train_data.head())\n",
    "\n",
    "# Тестовый датасет\n",
    "print(\"\\ntest_data:\")\n",
    "print(test_data.head())"
   ]
  },
  {
   "cell_type": "code",
   "execution_count": 11,
   "id": "72aa4de7",
   "metadata": {
    "execution": {
     "iopub.execute_input": "2025-01-24T17:16:45.640591Z",
     "iopub.status.busy": "2025-01-24T17:16:45.640325Z",
     "iopub.status.idle": "2025-01-24T17:16:45.670341Z",
     "shell.execute_reply": "2025-01-24T17:16:45.669447Z"
    },
    "papermill": {
     "duration": 0.043291,
     "end_time": "2025-01-24T17:16:45.671654",
     "exception": false,
     "start_time": "2025-01-24T17:16:45.628363",
     "status": "completed"
    },
    "tags": []
   },
   "outputs": [
    {
     "name": "stdout",
     "output_type": "stream",
     "text": [
      "<class 'pandas.core.frame.DataFrame'>\n",
      "RangeIndex: 8708 entries, 0 to 8707\n",
      "Data columns (total 54 columns):\n",
      " #   Column          Non-Null Count  Dtype  \n",
      "---  ------          --------------  -----  \n",
      " 0   index           8708 non-null   int64  \n",
      " 1   assessment      8478 non-null   float64\n",
      " 2   tags            8697 non-null   object \n",
      " 3   text            8708 non-null   object \n",
      " 4   trend_id_res0   8708 non-null   int64  \n",
      " 5   trend_id_res1   8708 non-null   int64  \n",
      " 6   trend_id_res2   8708 non-null   int64  \n",
      " 7   trend_id_res3   8708 non-null   int64  \n",
      " 8   trend_id_res4   8708 non-null   int64  \n",
      " 9   trend_id_res5   8708 non-null   int64  \n",
      " 10  trend_id_res6   8708 non-null   int64  \n",
      " 11  trend_id_res7   8708 non-null   int64  \n",
      " 12  trend_id_res8   8708 non-null   int64  \n",
      " 13  trend_id_res9   8708 non-null   int64  \n",
      " 14  trend_id_res10  8708 non-null   int64  \n",
      " 15  trend_id_res11  8708 non-null   int64  \n",
      " 16  trend_id_res12  8708 non-null   int64  \n",
      " 17  trend_id_res13  8708 non-null   int64  \n",
      " 18  trend_id_res14  8708 non-null   int64  \n",
      " 19  trend_id_res15  8708 non-null   int64  \n",
      " 20  trend_id_res16  8708 non-null   int64  \n",
      " 21  trend_id_res17  8708 non-null   int64  \n",
      " 22  trend_id_res18  8708 non-null   int64  \n",
      " 23  trend_id_res19  8708 non-null   int64  \n",
      " 24  trend_id_res20  8708 non-null   int64  \n",
      " 25  trend_id_res21  8708 non-null   int64  \n",
      " 26  trend_id_res22  8708 non-null   int64  \n",
      " 27  trend_id_res23  8708 non-null   int64  \n",
      " 28  trend_id_res24  8708 non-null   int64  \n",
      " 29  trend_id_res25  8708 non-null   int64  \n",
      " 30  trend_id_res26  8708 non-null   int64  \n",
      " 31  trend_id_res27  8708 non-null   int64  \n",
      " 32  trend_id_res28  8708 non-null   int64  \n",
      " 33  trend_id_res29  8708 non-null   int64  \n",
      " 34  trend_id_res30  8708 non-null   int64  \n",
      " 35  trend_id_res31  8708 non-null   int64  \n",
      " 36  trend_id_res32  8708 non-null   int64  \n",
      " 37  trend_id_res33  8708 non-null   int64  \n",
      " 38  trend_id_res34  8708 non-null   int64  \n",
      " 39  trend_id_res35  8708 non-null   int64  \n",
      " 40  trend_id_res36  8708 non-null   int64  \n",
      " 41  trend_id_res37  8708 non-null   int64  \n",
      " 42  trend_id_res38  8708 non-null   int64  \n",
      " 43  trend_id_res39  8708 non-null   int64  \n",
      " 44  trend_id_res40  8708 non-null   int64  \n",
      " 45  trend_id_res41  8708 non-null   int64  \n",
      " 46  trend_id_res42  8708 non-null   int64  \n",
      " 47  trend_id_res43  8708 non-null   int64  \n",
      " 48  trend_id_res44  8708 non-null   int64  \n",
      " 49  trend_id_res45  8708 non-null   int64  \n",
      " 50  trend_id_res46  8708 non-null   int64  \n",
      " 51  trend_id_res47  8708 non-null   int64  \n",
      " 52  trend_id_res48  8708 non-null   int64  \n",
      " 53  trend_id_res49  8708 non-null   int64  \n",
      "dtypes: float64(1), int64(51), object(2)\n",
      "memory usage: 3.6+ MB\n",
      "\n",
      "<class 'pandas.core.frame.DataFrame'>\n",
      "RangeIndex: 16999 entries, 0 to 16998\n",
      "Data columns (total 4 columns):\n",
      " #   Column      Non-Null Count  Dtype  \n",
      "---  ------      --------------  -----  \n",
      " 0   index       16999 non-null  int64  \n",
      " 1   assessment  16533 non-null  float64\n",
      " 2   tags        16967 non-null  object \n",
      " 3   text        16997 non-null  object \n",
      "dtypes: float64(1), int64(1), object(2)\n",
      "memory usage: 531.3+ KB\n"
     ]
    }
   ],
   "source": [
    "# Общая информация о тренировочном и тестовом датасетах\n",
    "train_data.info()\n",
    "print()\n",
    "test_data.info()"
   ]
  },
  {
   "cell_type": "code",
   "execution_count": 12,
   "id": "6e9536a8",
   "metadata": {
    "execution": {
     "iopub.execute_input": "2025-01-24T17:16:45.691892Z",
     "iopub.status.busy": "2025-01-24T17:16:45.691683Z",
     "iopub.status.idle": "2025-01-24T17:16:45.700541Z",
     "shell.execute_reply": "2025-01-24T17:16:45.699714Z"
    },
    "papermill": {
     "duration": 0.020319,
     "end_time": "2025-01-24T17:16:45.701846",
     "exception": false,
     "start_time": "2025-01-24T17:16:45.681527",
     "status": "completed"
    },
    "tags": []
   },
   "outputs": [
    {
     "name": "stdout",
     "output_type": "stream",
     "text": [
      "\n",
      "Пропущенные значения в train_data:\n",
      "index               0\n",
      "assessment        230\n",
      "tags               11\n",
      "text                0\n",
      "trend_id_res0       0\n",
      "trend_id_res1       0\n",
      "trend_id_res2       0\n",
      "trend_id_res3       0\n",
      "trend_id_res4       0\n",
      "trend_id_res5       0\n",
      "trend_id_res6       0\n",
      "trend_id_res7       0\n",
      "trend_id_res8       0\n",
      "trend_id_res9       0\n",
      "trend_id_res10      0\n",
      "trend_id_res11      0\n",
      "trend_id_res12      0\n",
      "trend_id_res13      0\n",
      "trend_id_res14      0\n",
      "trend_id_res15      0\n",
      "trend_id_res16      0\n",
      "trend_id_res17      0\n",
      "trend_id_res18      0\n",
      "trend_id_res19      0\n",
      "trend_id_res20      0\n",
      "trend_id_res21      0\n",
      "trend_id_res22      0\n",
      "trend_id_res23      0\n",
      "trend_id_res24      0\n",
      "trend_id_res25      0\n",
      "trend_id_res26      0\n",
      "trend_id_res27      0\n",
      "trend_id_res28      0\n",
      "trend_id_res29      0\n",
      "trend_id_res30      0\n",
      "trend_id_res31      0\n",
      "trend_id_res32      0\n",
      "trend_id_res33      0\n",
      "trend_id_res34      0\n",
      "trend_id_res35      0\n",
      "trend_id_res36      0\n",
      "trend_id_res37      0\n",
      "trend_id_res38      0\n",
      "trend_id_res39      0\n",
      "trend_id_res40      0\n",
      "trend_id_res41      0\n",
      "trend_id_res42      0\n",
      "trend_id_res43      0\n",
      "trend_id_res44      0\n",
      "trend_id_res45      0\n",
      "trend_id_res46      0\n",
      "trend_id_res47      0\n",
      "trend_id_res48      0\n",
      "trend_id_res49      0\n",
      "dtype: int64\n",
      "\n",
      "Пропущенные значения в test_data:\n",
      "index           0\n",
      "assessment    466\n",
      "tags           32\n",
      "text            2\n",
      "dtype: int64\n"
     ]
    }
   ],
   "source": [
    "# Проверка на пропуски\n",
    "print(\"\\nПропущенные значения в train_data:\")\n",
    "print(train_data.isnull().sum())\n",
    "\n",
    "print(\"\\nПропущенные значения в test_data:\")\n",
    "print(test_data.isnull().sum())"
   ]
  },
  {
   "cell_type": "markdown",
   "id": "bcbe7203",
   "metadata": {
    "papermill": {
     "duration": 0.009695,
     "end_time": "2025-01-24T17:16:45.722174",
     "exception": false,
     "start_time": "2025-01-24T17:16:45.712479",
     "status": "completed"
    },
    "tags": []
   },
   "source": [
    "Представленные данные соответсвуют задаче, в тренировочный датасет имеет размер (54, 8708), а тестовый (4, 16999). Пропущенные значения есть в стобцах assessment и tags, как в треировочном, так и в тестовов датасетах, также 2 пропуска в столбце text в тестовом датасете, заменим их на заглушку.\n"
   ]
  },
  {
   "cell_type": "code",
   "execution_count": 13,
   "id": "b16f7822",
   "metadata": {
    "execution": {
     "iopub.execute_input": "2025-01-24T17:16:45.742837Z",
     "iopub.status.busy": "2025-01-24T17:16:45.742633Z",
     "iopub.status.idle": "2025-01-24T17:16:45.747843Z",
     "shell.execute_reply": "2025-01-24T17:16:45.747203Z"
    },
    "papermill": {
     "duration": 0.017058,
     "end_time": "2025-01-24T17:16:45.749142",
     "exception": false,
     "start_time": "2025-01-24T17:16:45.732084",
     "status": "completed"
    },
    "tags": []
   },
   "outputs": [],
   "source": [
    "test_data['text'] = test_data['text'].fillna(\"нет\")"
   ]
  },
  {
   "cell_type": "code",
   "execution_count": 14,
   "id": "1acccb4c",
   "metadata": {
    "execution": {
     "iopub.execute_input": "2025-01-24T17:16:45.770807Z",
     "iopub.status.busy": "2025-01-24T17:16:45.770601Z",
     "iopub.status.idle": "2025-01-24T17:16:45.777793Z",
     "shell.execute_reply": "2025-01-24T17:16:45.776912Z"
    },
    "papermill": {
     "duration": 0.018928,
     "end_time": "2025-01-24T17:16:45.779059",
     "exception": false,
     "start_time": "2025-01-24T17:16:45.760131",
     "status": "completed"
    },
    "tags": []
   },
   "outputs": [
    {
     "name": "stdout",
     "output_type": "stream",
     "text": [
      "Изначальные размеры датасета: 8708\n",
      "Количество строк без класса: 4085\n"
     ]
    }
   ],
   "source": [
    "print(f'Изначальные размеры датасета: {train_data.shape[0]}')\n",
    "# Целевые столбцы\n",
    "target_columns = [col for col in train_data.columns if 'trend_id_res' in col]\n",
    "\n",
    "# Cтроки c нулевыми таргетами\n",
    "no_class_rows = train_data[target_columns].sum(axis=1).eq(0)\n",
    "all_zeros_count = no_class_rows.sum()\n",
    "print(f'Количество строк без класса: {all_zeros_count}')"
   ]
  },
  {
   "cell_type": "markdown",
   "id": "92c8ec1b",
   "metadata": {
    "papermill": {
     "duration": 0.009685,
     "end_time": "2025-01-24T17:16:45.799557",
     "exception": false,
     "start_time": "2025-01-24T17:16:45.789872",
     "status": "completed"
    },
    "tags": []
   },
   "source": [
    "Почти половина данных не имеет целевой переменной, это важная особенность данных, которую нужно учитывать. Есть несколько путей работы:\n",
    "1. Оставляем все данные как есть и учим модель предсказывать остутсвие калссов.\n",
    "2. Удаляем все данные без таргета, и акцентируем внимание модели на предсказание классов.\n",
    "3. Оставляем часть таких данных (около 150 - среднее количество данных на класс), а остальное удаляем."
   ]
  },
  {
   "cell_type": "markdown",
   "id": "e2d8d5fa",
   "metadata": {
    "papermill": {
     "duration": 0.009634,
     "end_time": "2025-01-24T17:16:45.818987",
     "exception": false,
     "start_time": "2025-01-24T17:16:45.809353",
     "status": "completed"
    },
    "tags": []
   },
   "source": [
    "Введем гипотезу, наиболее эффективным способом окажется 3 вариант - отавить для обучения часть данных без таргета."
   ]
  },
  {
   "cell_type": "markdown",
   "id": "d23f784a",
   "metadata": {
    "execution": {
     "iopub.execute_input": "2025-01-16T08:13:05.858047Z",
     "iopub.status.busy": "2025-01-16T08:13:05.857743Z",
     "iopub.status.idle": "2025-01-16T08:13:05.873563Z",
     "shell.execute_reply": "2025-01-16T08:13:05.872841Z",
     "shell.execute_reply.started": "2025-01-16T08:13:05.858020Z"
    },
    "papermill": {
     "duration": 0.00988,
     "end_time": "2025-01-24T17:16:45.838745",
     "exception": false,
     "start_time": "2025-01-24T17:16:45.828865",
     "status": "completed"
    },
    "tags": []
   },
   "source": [
    "```\n",
    "#Удалим данные без таргета \n",
    "# Выбираем случайные 150 строк без класса\n",
    "sampled_no_class_rows = train_data[no_class_rows].sample(n=150, random_state=42)\n",
    "\n",
    "# Удаляем все строки без класса\n",
    "train_data = train_data[~no_class_rows]\n",
    "\n",
    "# Добавляем обратно 150 случайно выбранных строк\n",
    "train_data = pd.concat([train_data, sampled_no_class_rows], ignore_index=True)\n",
    "\n",
    "# Итоговое количество строк\n",
    "print(f'Общее количество строк в обновленном наборе данных: {train_data.shape[0]}')"
   ]
  },
  {
   "cell_type": "code",
   "execution_count": 15,
   "id": "13df27d7",
   "metadata": {
    "execution": {
     "iopub.execute_input": "2025-01-24T17:16:45.859817Z",
     "iopub.status.busy": "2025-01-24T17:16:45.859609Z",
     "iopub.status.idle": "2025-01-24T17:16:46.445615Z",
     "shell.execute_reply": "2025-01-24T17:16:46.444796Z"
    },
    "papermill": {
     "duration": 0.597839,
     "end_time": "2025-01-24T17:16:46.447053",
     "exception": false,
     "start_time": "2025-01-24T17:16:45.849214",
     "status": "completed"
    },
    "tags": []
   },
   "outputs": [
    {
     "data": {
      "image/png": "[encoded data removed]",
      "text/plain": [
       "<Figure size 1200x600 with 1 Axes>"
      ]
     },
     "metadata": {},
     "output_type": "display_data"
    }
   ],
   "source": [
    "label_counts = train_data[target_columns].sum().sort_values(ascending=False)\n",
    "\n",
    "# Распределение таргета\n",
    "plt.figure(figsize=(12, 6))\n",
    "sns.barplot(x=label_counts.index, y=label_counts.values)\n",
    "plt.title(\"Распределение классов в целевом признаке\")\n",
    "plt.xticks(rotation=90)\n",
    "plt.xlabel(\"Класс\")\n",
    "plt.ylabel(\"Частота\")\n",
    "plt.show()"
   ]
  },
  {
   "cell_type": "markdown",
   "id": "dbebc26b",
   "metadata": {
    "papermill": {
     "duration": 0.010533,
     "end_time": "2025-01-24T17:16:46.468806",
     "exception": false,
     "start_time": "2025-01-24T17:16:46.458273",
     "status": "completed"
    },
    "tags": []
   },
   "source": [
    "Проанализируем столбец text"
   ]
  },
  {
   "cell_type": "code",
   "execution_count": 16,
   "id": "9c8e9d97",
   "metadata": {
    "execution": {
     "iopub.execute_input": "2025-01-24T17:16:46.491041Z",
     "iopub.status.busy": "2025-01-24T17:16:46.490818Z",
     "iopub.status.idle": "2025-01-24T17:16:46.838886Z",
     "shell.execute_reply": "2025-01-24T17:16:46.838131Z"
    },
    "papermill": {
     "duration": 0.36067,
     "end_time": "2025-01-24T17:16:46.840108",
     "exception": false,
     "start_time": "2025-01-24T17:16:46.479438",
     "status": "completed"
    },
    "tags": []
   },
   "outputs": [
    {
     "name": "stdout",
     "output_type": "stream",
     "text": [
      "Общая статистика по длине текста:\n",
      "count    8708.000000\n",
      "mean       72.666628\n",
      "std        69.937462\n",
      "min         1.000000\n",
      "25%        19.000000\n",
      "50%        48.000000\n",
      "75%       102.000000\n",
      "max       283.000000\n",
      "Name: text_length, dtype: float64\n"
     ]
    },
    {
     "name": "stderr",
     "output_type": "stream",
     "text": [
      "/usr/local/lib/python3.10/dist-packages/seaborn/_oldcore.py:1119: FutureWarning: use_inf_as_na option is deprecated and will be removed in a future version. Convert inf values to NaN before operating instead.\n",
      "  with pd.option_context('mode.use_inf_as_na', True):\n"
     ]
    },
    {
     "data": {
      "image/png": "[encoded data removed]",
      "text/plain": [
       "<Figure size 1200x600 with 1 Axes>"
      ]
     },
     "metadata": {},
     "output_type": "display_data"
    }
   ],
   "source": [
    "# Добавим новый столбец - длинна текста\n",
    "train_data['text_length'] = train_data['text'].apply(len)\n",
    "test_data['text_length'] = test_data['text'].apply(len)\n",
    "\n",
    "# Статистика по длине текста\n",
    "print(\"Общая статистика по длине текста:\")\n",
    "print(train_data['text_length'].describe())\n",
    "\n",
    "# Распределения длины текстов\n",
    "plt.figure(figsize=(12, 6))\n",
    "sns.histplot(train_data['text_length'], bins=30, kde=True, color='blue')\n",
    "plt.title(\"Распределение длинны текста\")\n",
    "plt.xlabel(\"Длинна текста\")\n",
    "plt.ylabel(\"Частота\")\n",
    "plt.show()"
   ]
  },
  {
   "cell_type": "markdown",
   "id": "cfd1e510",
   "metadata": {
    "papermill": {
     "duration": 0.011193,
     "end_time": "2025-01-24T17:16:46.863342",
     "exception": false,
     "start_time": "2025-01-24T17:16:46.852149",
     "status": "completed"
    },
    "tags": []
   },
   "source": [
    "В среднем длинна текста около 73 символов, медиана - 48, минимум - 1, максимум - 283 символа."
   ]
  },
  {
   "cell_type": "code",
   "execution_count": 17,
   "id": "ff3da9df",
   "metadata": {
    "execution": {
     "iopub.execute_input": "2025-01-24T17:16:46.886725Z",
     "iopub.status.busy": "2025-01-24T17:16:46.886478Z",
     "iopub.status.idle": "2025-01-24T17:16:46.892374Z",
     "shell.execute_reply": "2025-01-24T17:16:46.891720Z"
    },
    "papermill": {
     "duration": 0.018822,
     "end_time": "2025-01-24T17:16:46.893505",
     "exception": false,
     "start_time": "2025-01-24T17:16:46.874683",
     "status": "completed"
    },
    "tags": []
   },
   "outputs": [
    {
     "name": "stdout",
     "output_type": "stream",
     "text": [
      "Количество тектовых дубликатов в train_data: 1225\n"
     ]
    }
   ],
   "source": [
    "# Проверка на дубликаты\n",
    "duplicate_count = train_data.duplicated(subset=['text']).sum()\n",
    "print(f\"Количество тектовых дубликатов в train_data: {duplicate_count}\")"
   ]
  },
  {
   "cell_type": "markdown",
   "id": "950fa0b8",
   "metadata": {
    "papermill": {
     "duration": 0.01115,
     "end_time": "2025-01-24T17:16:46.916170",
     "exception": false,
     "start_time": "2025-01-24T17:16:46.905020",
     "status": "completed"
    },
    "tags": []
   },
   "source": [
    "В течение анализа данных было выявлено наличие дисбаласна классов таргета: чаще всех встречается класс 0 - \"Долгая доставка\", 12 - \"Высокие цены\", 2 - \"Время доставки не соответствует заявленому\", что тесно связанно с 0 классом, реже всего класс 46 - \"Время работы\", 17 - \"Не читаем комментарии\", 9 - \"Сумма заказа меняется во время набора корзины\". Это может быть связанно со спецификой работы сервиса, т.к сервис является доставкой еды, большинство жалоб будут именно на процесс доставки и меньше на другие аспекты. Также были обнаружены текстовые дубликаты, что может быть объяснено тем, что люди коротко и один отвечают на опросы. Были сформулированы варианты работы с данными без целевого признака."
   ]
  },
  {
   "cell_type": "markdown",
   "id": "4ecc00dd",
   "metadata": {
    "papermill": {
     "duration": 0.011248,
     "end_time": "2025-01-24T17:16:46.938801",
     "exception": false,
     "start_time": "2025-01-24T17:16:46.927553",
     "status": "completed"
    },
    "tags": []
   },
   "source": [
    "## Предобработка данных"
   ]
  },
  {
   "cell_type": "markdown",
   "id": "30281fc5",
   "metadata": {
    "papermill": {
     "duration": 0.01126,
     "end_time": "2025-01-24T17:16:46.961963",
     "exception": false,
     "start_time": "2025-01-24T17:16:46.950703",
     "status": "completed"
    },
    "tags": []
   },
   "source": [
    "Выделим эмодзи в отдельный признак для анализа, после очистки добавим эмодзи обратно в текст."
   ]
  },
  {
   "cell_type": "code",
   "execution_count": 18,
   "id": "7ff9e47f",
   "metadata": {
    "execution": {
     "iopub.execute_input": "2025-01-24T17:16:46.985909Z",
     "iopub.status.busy": "2025-01-24T17:16:46.985700Z",
     "iopub.status.idle": "2025-01-24T17:16:47.209011Z",
     "shell.execute_reply": "2025-01-24T17:16:47.208181Z"
    },
    "papermill": {
     "duration": 0.236687,
     "end_time": "2025-01-24T17:16:47.210221",
     "exception": false,
     "start_time": "2025-01-24T17:16:46.973534",
     "status": "completed"
    },
    "tags": []
   },
   "outputs": [
    {
     "name": "stdout",
     "output_type": "stream",
     "text": [
      "\n",
      "Пример выделенных эмодзи:\n",
      "                                                                                 text  \\\n",
      "0  Маленький выбор товаров, хотелось бы ассортимент больше, а так вроде бы все хорошо   \n",
      "1                                                                              Быстро   \n",
      "2                                                    Доставка постоянно задерживается   \n",
      "3                                                  Наценка и ассортимент расстраивают   \n",
      "4                                                                   Доставка просто 👍   \n",
      "\n",
      "  emojis  \n",
      "0         \n",
      "1         \n",
      "2         \n",
      "3         \n",
      "4      👍  \n"
     ]
    }
   ],
   "source": [
    "# Функция выделения эмодзи из текста\n",
    "def extract_emojis(text):\n",
    "    return ''.join(char for char in text if char in emoji.EMOJI_DATA)\n",
    "\n",
    "train_data['emojis'] = train_data['text'].apply(extract_emojis)\n",
    "test_data['emojis'] = test_data['text'].apply(extract_emojis)\n",
    "\n",
    "print(\"\\nПример выделенных эмодзи:\")\n",
    "print(train_data[['text', 'emojis']].head())"
   ]
  },
  {
   "cell_type": "markdown",
   "id": "1ef97d61",
   "metadata": {
    "execution": {
     "iopub.execute_input": "2025-01-15T11:00:54.886303Z",
     "iopub.status.busy": "2025-01-15T11:00:54.885928Z",
     "iopub.status.idle": "2025-01-15T11:00:54.893416Z",
     "shell.execute_reply": "2025-01-15T11:00:54.891534Z",
     "shell.execute_reply.started": "2025-01-15T11:00:54.886277Z"
    },
    "papermill": {
     "duration": 0.011235,
     "end_time": "2025-01-24T17:16:47.233081",
     "exception": false,
     "start_time": "2025-01-24T17:16:47.221846",
     "status": "completed"
    },
    "tags": []
   },
   "source": [
    "Добавим к стобцу text теги из tegs, чтобы сохранить важную информацию."
   ]
  },
  {
   "cell_type": "code",
   "execution_count": 19,
   "id": "c3a8a8cf",
   "metadata": {
    "execution": {
     "iopub.execute_input": "2025-01-24T17:16:47.256929Z",
     "iopub.status.busy": "2025-01-24T17:16:47.256699Z",
     "iopub.status.idle": "2025-01-24T17:16:47.283195Z",
     "shell.execute_reply": "2025-01-24T17:16:47.282497Z"
    },
    "papermill": {
     "duration": 0.039833,
     "end_time": "2025-01-24T17:16:47.284392",
     "exception": false,
     "start_time": "2025-01-24T17:16:47.244559",
     "status": "completed"
    },
    "tags": []
   },
   "outputs": [
    {
     "data": {
      "text/html": [
       "<div>\n",
       "<style scoped>\n",
       "    .dataframe tbody tr th:only-of-type {\n",
       "        vertical-align: middle;\n",
       "    }\n",
       "\n",
       "    .dataframe tbody tr th {\n",
       "        vertical-align: top;\n",
       "    }\n",
       "\n",
       "    .dataframe thead th {\n",
       "        text-align: right;\n",
       "    }\n",
       "</style>\n",
       "<table border=\"1\" class=\"dataframe\">\n",
       "  <thead>\n",
       "    <tr style=\"text-align: right;\">\n",
       "      <th></th>\n",
       "      <th>index</th>\n",
       "      <th>combined_text</th>\n",
       "    </tr>\n",
       "  </thead>\n",
       "  <tbody>\n",
       "    <tr>\n",
       "      <th>0</th>\n",
       "      <td>5652</td>\n",
       "      <td>{ASSORTMENT,PROMOTIONS,DELIVERY} Маленький выбор товаров, хотелось бы ассортимент больше, а так вроде бы все хорошо</td>\n",
       "    </tr>\n",
       "    <tr>\n",
       "      <th>1</th>\n",
       "      <td>18092</td>\n",
       "      <td>{ASSORTMENT,PRICE,PRODUCTS_QUALITY,DELIVERY} Быстро</td>\n",
       "    </tr>\n",
       "    <tr>\n",
       "      <th>2</th>\n",
       "      <td>13845</td>\n",
       "      <td>{DELIVERY,PROMOTIONS,PRICE,ASSORTMENT,SUPPORT} Доставка постоянно задерживается</td>\n",
       "    </tr>\n",
       "    <tr>\n",
       "      <th>3</th>\n",
       "      <td>25060</td>\n",
       "      <td>{PRICE,PROMOTIONS,ASSORTMENT} Наценка и ассортимент расстраивают</td>\n",
       "    </tr>\n",
       "    <tr>\n",
       "      <th>4</th>\n",
       "      <td>15237</td>\n",
       "      <td>{ASSORTMENT,PRODUCTS_QUALITY,PROMOTIONS,CATALOG_NAVIGATION} Доставка просто 👍</td>\n",
       "    </tr>\n",
       "  </tbody>\n",
       "</table>\n",
       "</div>"
      ],
      "text/plain": [
       "   index  \\\n",
       "0   5652   \n",
       "1  18092   \n",
       "2  13845   \n",
       "3  25060   \n",
       "4  15237   \n",
       "\n",
       "                                                                                                         combined_text  \n",
       "0  {ASSORTMENT,PROMOTIONS,DELIVERY} Маленький выбор товаров, хотелось бы ассортимент больше, а так вроде бы все хорошо  \n",
       "1                                                                  {ASSORTMENT,PRICE,PRODUCTS_QUALITY,DELIVERY} Быстро  \n",
       "2                                      {DELIVERY,PROMOTIONS,PRICE,ASSORTMENT,SUPPORT} Доставка постоянно задерживается  \n",
       "3                                                     {PRICE,PROMOTIONS,ASSORTMENT} Наценка и ассортимент расстраивают  \n",
       "4                                        {ASSORTMENT,PRODUCTS_QUALITY,PROMOTIONS,CATALOG_NAVIGATION} Доставка просто 👍  "
      ]
     },
     "execution_count": 19,
     "metadata": {},
     "output_type": "execute_result"
    }
   ],
   "source": [
    "train_data['combined_text'] = train_data['tags'] + \" \"+  train_data['text']\n",
    "test_data['combined_text'] = test_data['tags'] + \" \"+  test_data['text']\n",
    "train_data[['index', 'combined_text']].head()"
   ]
  },
  {
   "cell_type": "markdown",
   "id": "05bc1aaa",
   "metadata": {
    "papermill": {
     "duration": 0.011492,
     "end_time": "2025-01-24T17:16:47.307722",
     "exception": false,
     "start_time": "2025-01-24T17:16:47.296230",
     "status": "completed"
    },
    "tags": []
   },
   "source": [
    "Очистим текст от лишних символов, приведем текст к нижнему регистру, удалим стоп-слова."
   ]
  },
  {
   "cell_type": "code",
   "execution_count": 20,
   "id": "33e21fd1",
   "metadata": {
    "execution": {
     "iopub.execute_input": "2025-01-24T17:16:47.331982Z",
     "iopub.status.busy": "2025-01-24T17:16:47.331748Z",
     "iopub.status.idle": "2025-01-24T17:16:47.551845Z",
     "shell.execute_reply": "2025-01-24T17:16:47.550836Z"
    },
    "papermill": {
     "duration": 0.23402,
     "end_time": "2025-01-24T17:16:47.553271",
     "exception": false,
     "start_time": "2025-01-24T17:16:47.319251",
     "status": "completed"
    },
    "tags": []
   },
   "outputs": [
    {
     "name": "stdout",
     "output_type": "stream",
     "text": [
      "\n",
      "Пример очищенного текста:\n",
      "                                                                                                         combined_text  \\\n",
      "0  {ASSORTMENT,PROMOTIONS,DELIVERY} Маленький выбор товаров, хотелось бы ассортимент больше, а так вроде бы все хорошо   \n",
      "1                                                                  {ASSORTMENT,PRICE,PRODUCTS_QUALITY,DELIVERY} Быстро   \n",
      "2                                      {DELIVERY,PROMOTIONS,PRICE,ASSORTMENT,SUPPORT} Доставка постоянно задерживается   \n",
      "3                                                     {PRICE,PROMOTIONS,ASSORTMENT} Наценка и ассортимент расстраивают   \n",
      "4                                        {ASSORTMENT,PRODUCTS_QUALITY,PROMOTIONS,CATALOG_NAVIGATION} Доставка просто 👍   \n",
      "\n",
      "                                                                                                      cleaned_text  \n",
      "0  assortment promotions delivery маленький выбор товаров хотелось бы ассортимент больше а так вроде бы все хорошо  \n",
      "1                                                                 assortment price productsquality delivery быстро  \n",
      "2                                    delivery promotions price assortment support доставка постоянно задерживается  \n",
      "3                                                   price promotions assortment наценка и ассортимент расстраивают  \n",
      "4                                         assortment productsquality promotions catalognavigation доставка просто   \n"
     ]
    }
   ],
   "source": [
    "# Функция очистки текста\n",
    "def clean_text(text):\n",
    "    #Учитываем наличие пропусков\n",
    "    text = str(text) if text is not None else ''\n",
    "    # Разедлим теги чтобы они не слиплись\n",
    "    text = re.sub(r'\\{([^}]*)\\}', lambda m: ' '.join(m.group(1).split(',')), text)\n",
    "    # Удаление специальных символов\n",
    "    text = re.sub(r'[^а-яА-ЯёЁa-zA-Z0-9\\s]', '', text)\n",
    "    # Удаление чисел \n",
    "    text = re.sub(r'\\d+', '', text)\n",
    "    # Приведение к нижнему регистру\n",
    "    text = text.lower()\n",
    "    return text\n",
    "\n",
    "train_data['cleaned_text'] = train_data['combined_text'].apply(clean_text)\n",
    "test_data['cleaned_text'] = test_data['combined_text'].apply(clean_text)\n",
    "\n",
    "print(\"\\nПример очищенного текста:\")\n",
    "print(train_data[['combined_text', 'cleaned_text']].head())"
   ]
  },
  {
   "cell_type": "code",
   "execution_count": 21,
   "id": "e5b7df2c",
   "metadata": {
    "execution": {
     "iopub.execute_input": "2025-01-24T17:16:47.580031Z",
     "iopub.status.busy": "2025-01-24T17:16:47.579733Z",
     "iopub.status.idle": "2025-01-24T17:16:47.586740Z",
     "shell.execute_reply": "2025-01-24T17:16:47.585834Z"
    },
    "papermill": {
     "duration": 0.021938,
     "end_time": "2025-01-24T17:16:47.588175",
     "exception": false,
     "start_time": "2025-01-24T17:16:47.566237",
     "status": "completed"
    },
    "tags": []
   },
   "outputs": [],
   "source": [
    "# Добавляем эмодзи обратно в текст\n",
    "train_data['cleaned_text'] = train_data['cleaned_text'] + train_data['emojis']\n",
    "test_data['cleaned_text'] = test_data['cleaned_text'] + test_data['emojis']"
   ]
  },
  {
   "cell_type": "markdown",
   "id": "6681fbfd",
   "metadata": {
    "papermill": {
     "duration": 0.012617,
     "end_time": "2025-01-24T17:16:47.613372",
     "exception": false,
     "start_time": "2025-01-24T17:16:47.600755",
     "status": "completed"
    },
    "tags": []
   },
   "source": [
    "Разобъем текст на токены."
   ]
  },
  {
   "cell_type": "code",
   "execution_count": 22,
   "id": "768bf341",
   "metadata": {
    "execution": {
     "iopub.execute_input": "2025-01-24T17:16:47.639939Z",
     "iopub.status.busy": "2025-01-24T17:16:47.639704Z",
     "iopub.status.idle": "2025-01-24T17:16:49.716604Z",
     "shell.execute_reply": "2025-01-24T17:16:49.715445Z"
    },
    "papermill": {
     "duration": 2.092022,
     "end_time": "2025-01-24T17:16:49.718194",
     "exception": false,
     "start_time": "2025-01-24T17:16:47.626172",
     "status": "completed"
    },
    "tags": []
   },
   "outputs": [
    {
     "name": "stdout",
     "output_type": "stream",
     "text": [
      "\n",
      "Пример токенов:\n",
      "                                                                                                      cleaned_text  \\\n",
      "0  assortment promotions delivery маленький выбор товаров хотелось бы ассортимент больше а так вроде бы все хорошо   \n",
      "1                                                                 assortment price productsquality delivery быстро   \n",
      "2                                    delivery promotions price assortment support доставка постоянно задерживается   \n",
      "3                                                   price promotions assortment наценка и ассортимент расстраивают   \n",
      "4                                        assortment productsquality promotions catalognavigation доставка просто 👍   \n",
      "\n",
      "                                                                                                                             tokens  \n",
      "0  [assortment, promotions, delivery, маленький, выбор, товаров, хотелось, бы, ассортимент, больше, а, так, вроде, бы, все, хорошо]  \n",
      "1                                                                            [assortment, price, productsquality, delivery, быстро]  \n",
      "2                                            [delivery, promotions, price, assortment, support, доставка, постоянно, задерживается]  \n",
      "3                                                            [price, promotions, assortment, наценка, и, ассортимент, расстраивают]  \n",
      "4                                                 [assortment, productsquality, promotions, catalognavigation, доставка, просто, 👍]  \n"
     ]
    }
   ],
   "source": [
    "# Функция для токенизации текста\n",
    "def tokenize_text(text):\n",
    "    tokenizer = TreebankWordTokenizer()\n",
    "    return tokenizer.tokenize(text)\n",
    "\n",
    "train_data['tokens'] = train_data['cleaned_text'].apply(tokenize_text)\n",
    "test_data['tokens'] = test_data['cleaned_text'].apply(tokenize_text)\n",
    "\n",
    "print(\"\\nПример токенов:\")\n",
    "print(train_data[['cleaned_text', 'tokens']].head())"
   ]
  },
  {
   "cell_type": "markdown",
   "id": "d5e1a369",
   "metadata": {
    "papermill": {
     "duration": 0.012087,
     "end_time": "2025-01-24T17:16:49.744770",
     "exception": false,
     "start_time": "2025-01-24T17:16:49.732683",
     "status": "completed"
    },
    "tags": []
   },
   "source": [
    "Лемматизируем токены, оставим теги не тронутыми т.к они все в изначальной форме плюс они на английском языке."
   ]
  },
  {
   "cell_type": "code",
   "execution_count": 23,
   "id": "c5078469",
   "metadata": {
    "execution": {
     "iopub.execute_input": "2025-01-24T17:16:49.769515Z",
     "iopub.status.busy": "2025-01-24T17:16:49.769212Z",
     "iopub.status.idle": "2025-01-24T17:17:34.498972Z",
     "shell.execute_reply": "2025-01-24T17:17:34.497896Z"
    },
    "papermill": {
     "duration": 44.754674,
     "end_time": "2025-01-24T17:17:34.511390",
     "exception": false,
     "start_time": "2025-01-24T17:16:49.756716",
     "status": "completed"
    },
    "tags": []
   },
   "outputs": [
    {
     "name": "stdout",
     "output_type": "stream",
     "text": [
      "\n",
      "Пример лемматизированных токенов:\n",
      "                                                                                                                             tokens  \\\n",
      "0  [assortment, promotions, delivery, маленький, выбор, товаров, хотелось, бы, ассортимент, больше, а, так, вроде, бы, все, хорошо]   \n",
      "1                                                                            [assortment, price, productsquality, delivery, быстро]   \n",
      "2                                            [delivery, promotions, price, assortment, support, доставка, постоянно, задерживается]   \n",
      "3                                                            [price, promotions, assortment, наценка, и, ассортимент, расстраивают]   \n",
      "4                                                 [assortment, productsquality, promotions, catalognavigation, доставка, просто, 👍]   \n",
      "\n",
      "                                                                                                                 lemmatized_tokens  \n",
      "0  [assortment, promotions, delivery, маленький, выбор, товар, хотеться, бы, ассортимент, большой, а, так, вроде, бы, всё, хорошо]  \n",
      "1                                                                           [assortment, price, productsquality, delivery, быстро]  \n",
      "2                                           [delivery, promotions, price, assortment, support, доставка, постоянно, задерживаться]  \n",
      "3                                                           [price, promotions, assortment, наценка, и, ассортимент, расстраивать]  \n",
      "4                                                [assortment, productsquality, promotions, catalognavigation, доставка, просто, 👍]  \n"
     ]
    }
   ],
   "source": [
    "# Инициализация лемматизаторов\n",
    "morph = pymorphy2.MorphAnalyzer()\n",
    "# Функция для лемматизации\n",
    "def lemmatize_token(token):\n",
    "    # Проверка на русские символы\n",
    "    if any('а' <= ch <= 'я' or 'А' <= ch <= 'Я' for ch in token):\n",
    "        # Лемматизируем\n",
    "        return morph.parse(token)[0].normal_form\n",
    "    else:\n",
    "        # Теги\n",
    "        return token\n",
    "\n",
    "def lemmatize_tokens(tokens):\n",
    "    return [lemmatize_token(token) for token in tokens]\n",
    "\n",
    "train_data['lemmatized_tokens'] = train_data['tokens'].apply(lemmatize_tokens)\n",
    "test_data['lemmatized_tokens'] = test_data['tokens'].apply(lemmatize_tokens)\n",
    "\n",
    "print(\"\\nПример лемматизированных токенов:\")\n",
    "print(train_data[['tokens', 'lemmatized_tokens']].head())"
   ]
  },
  {
   "cell_type": "code",
   "execution_count": 24,
   "id": "1425f72d",
   "metadata": {
    "execution": {
     "iopub.execute_input": "2025-01-24T17:17:34.536353Z",
     "iopub.status.busy": "2025-01-24T17:17:34.536086Z",
     "iopub.status.idle": "2025-01-24T17:17:34.569653Z",
     "shell.execute_reply": "2025-01-24T17:17:34.568899Z"
    },
    "papermill": {
     "duration": 0.047321,
     "end_time": "2025-01-24T17:17:34.570880",
     "exception": false,
     "start_time": "2025-01-24T17:17:34.523559",
     "status": "completed"
    },
    "tags": []
   },
   "outputs": [
    {
     "name": "stdout",
     "output_type": "stream",
     "text": [
      "\n",
      "Пример финального текста:\n",
      "                                                                                 text  \\\n",
      "0  Маленький выбор товаров, хотелось бы ассортимент больше, а так вроде бы все хорошо   \n",
      "1                                                                              Быстро   \n",
      "2                                                    Доставка постоянно задерживается   \n",
      "3                                                  Наценка и ассортимент расстраивают   \n",
      "4                                                                   Доставка просто 👍   \n",
      "\n",
      "                                                                                                   processed_text  \n",
      "0  assortment promotions delivery маленький выбор товар хотеться бы ассортимент большой а так вроде бы всё хорошо  \n",
      "1                                                                assortment price productsquality delivery быстро  \n",
      "2                                   delivery promotions price assortment support доставка постоянно задерживаться  \n",
      "3                                                  price promotions assortment наценка и ассортимент расстраивать  \n",
      "4                                       assortment productsquality promotions catalognavigation доставка просто 👍  \n"
     ]
    }
   ],
   "source": [
    "# Объединим обработанный текст в один\n",
    "def tokens_to_string(tokens):\n",
    "    return ' '.join(tokens)\n",
    "\n",
    "train_data['processed_text'] = train_data['lemmatized_tokens'].apply(tokens_to_string)\n",
    "test_data['processed_text'] = test_data['lemmatized_tokens'].apply(tokens_to_string)\n",
    "\n",
    "print(\"\\nПример финального текста:\")\n",
    "print(train_data[['text', 'processed_text']].head())"
   ]
  },
  {
   "cell_type": "markdown",
   "id": "8ccaf56f",
   "metadata": {
    "papermill": {
     "duration": 0.011698,
     "end_time": "2025-01-24T17:17:34.594658",
     "exception": false,
     "start_time": "2025-01-24T17:17:34.582960",
     "status": "completed"
    },
    "tags": []
   },
   "source": [
    "На этом этапе были обработаны тексты, блыа проведена очистка, токенизация и лемматизация, также был добавлен дополнительный признак - эмодзи."
   ]
  },
  {
   "cell_type": "markdown",
   "id": "ee080586",
   "metadata": {
    "papermill": {
     "duration": 0.012051,
     "end_time": "2025-01-24T17:17:34.618734",
     "exception": false,
     "start_time": "2025-01-24T17:17:34.606683",
     "status": "completed"
    },
    "tags": []
   },
   "source": [
    "## Исследовательский анализ данных"
   ]
  },
  {
   "cell_type": "code",
   "execution_count": 25,
   "id": "c19a8e55",
   "metadata": {
    "execution": {
     "iopub.execute_input": "2025-01-24T17:17:34.643190Z",
     "iopub.status.busy": "2025-01-24T17:17:34.642970Z",
     "iopub.status.idle": "2025-01-24T17:17:34.660625Z",
     "shell.execute_reply": "2025-01-24T17:17:34.659848Z"
    },
    "papermill": {
     "duration": 0.031441,
     "end_time": "2025-01-24T17:17:34.662025",
     "exception": false,
     "start_time": "2025-01-24T17:17:34.630584",
     "status": "completed"
    },
    "tags": []
   },
   "outputs": [
    {
     "data": {
      "text/html": [
       "<div>\n",
       "<style scoped>\n",
       "    .dataframe tbody tr th:only-of-type {\n",
       "        vertical-align: middle;\n",
       "    }\n",
       "\n",
       "    .dataframe tbody tr th {\n",
       "        vertical-align: top;\n",
       "    }\n",
       "\n",
       "    .dataframe thead th {\n",
       "        text-align: right;\n",
       "    }\n",
       "</style>\n",
       "<table border=\"1\" class=\"dataframe\">\n",
       "  <thead>\n",
       "    <tr style=\"text-align: right;\">\n",
       "      <th></th>\n",
       "      <th>index</th>\n",
       "      <th>assessment</th>\n",
       "      <th>tags</th>\n",
       "      <th>text</th>\n",
       "      <th>trend_id_res0</th>\n",
       "      <th>trend_id_res1</th>\n",
       "      <th>trend_id_res2</th>\n",
       "      <th>trend_id_res3</th>\n",
       "      <th>trend_id_res4</th>\n",
       "      <th>trend_id_res5</th>\n",
       "      <th>...</th>\n",
       "      <th>trend_id_res47</th>\n",
       "      <th>trend_id_res48</th>\n",
       "      <th>trend_id_res49</th>\n",
       "      <th>text_length</th>\n",
       "      <th>emojis</th>\n",
       "      <th>combined_text</th>\n",
       "      <th>cleaned_text</th>\n",
       "      <th>tokens</th>\n",
       "      <th>lemmatized_tokens</th>\n",
       "      <th>processed_text</th>\n",
       "    </tr>\n",
       "  </thead>\n",
       "  <tbody>\n",
       "    <tr>\n",
       "      <th>0</th>\n",
       "      <td>5652</td>\n",
       "      <td>6.0</td>\n",
       "      <td>{ASSORTMENT,PROMOTIONS,DELIVERY}</td>\n",
       "      <td>Маленький выбор товаров, хотелось бы ассортимент больше, а так вроде бы все хорошо</td>\n",
       "      <td>0</td>\n",
       "      <td>0</td>\n",
       "      <td>0</td>\n",
       "      <td>0</td>\n",
       "      <td>0</td>\n",
       "      <td>0</td>\n",
       "      <td>...</td>\n",
       "      <td>0</td>\n",
       "      <td>0</td>\n",
       "      <td>0</td>\n",
       "      <td>82</td>\n",
       "      <td></td>\n",
       "      <td>{ASSORTMENT,PROMOTIONS,DELIVERY} Маленький выбор товаров, хотелось бы ассортимент больше, а так вроде бы все хорошо</td>\n",
       "      <td>assortment promotions delivery маленький выбор товаров хотелось бы ассортимент больше а так вроде бы все хорошо</td>\n",
       "      <td>[assortment, promotions, delivery, маленький, выбор, товаров, хотелось, бы, ассортимент, больше, а, так, вроде, бы, все, хорошо]</td>\n",
       "      <td>[assortment, promotions, delivery, маленький, выбор, товар, хотеться, бы, ассортимент, большой, а, так, вроде, бы, всё, хорошо]</td>\n",
       "      <td>assortment promotions delivery маленький выбор товар хотеться бы ассортимент большой а так вроде бы всё хорошо</td>\n",
       "    </tr>\n",
       "    <tr>\n",
       "      <th>1</th>\n",
       "      <td>18092</td>\n",
       "      <td>4.0</td>\n",
       "      <td>{ASSORTMENT,PRICE,PRODUCTS_QUALITY,DELIVERY}</td>\n",
       "      <td>Быстро</td>\n",
       "      <td>0</td>\n",
       "      <td>0</td>\n",
       "      <td>0</td>\n",
       "      <td>0</td>\n",
       "      <td>0</td>\n",
       "      <td>0</td>\n",
       "      <td>...</td>\n",
       "      <td>0</td>\n",
       "      <td>0</td>\n",
       "      <td>0</td>\n",
       "      <td>6</td>\n",
       "      <td></td>\n",
       "      <td>{ASSORTMENT,PRICE,PRODUCTS_QUALITY,DELIVERY} Быстро</td>\n",
       "      <td>assortment price productsquality delivery быстро</td>\n",
       "      <td>[assortment, price, productsquality, delivery, быстро]</td>\n",
       "      <td>[assortment, price, productsquality, delivery, быстро]</td>\n",
       "      <td>assortment price productsquality delivery быстро</td>\n",
       "    </tr>\n",
       "    <tr>\n",
       "      <th>2</th>\n",
       "      <td>13845</td>\n",
       "      <td>6.0</td>\n",
       "      <td>{DELIVERY,PROMOTIONS,PRICE,ASSORTMENT,SUPPORT}</td>\n",
       "      <td>Доставка постоянно задерживается</td>\n",
       "      <td>0</td>\n",
       "      <td>0</td>\n",
       "      <td>0</td>\n",
       "      <td>1</td>\n",
       "      <td>0</td>\n",
       "      <td>0</td>\n",
       "      <td>...</td>\n",
       "      <td>0</td>\n",
       "      <td>0</td>\n",
       "      <td>0</td>\n",
       "      <td>32</td>\n",
       "      <td></td>\n",
       "      <td>{DELIVERY,PROMOTIONS,PRICE,ASSORTMENT,SUPPORT} Доставка постоянно задерживается</td>\n",
       "      <td>delivery promotions price assortment support доставка постоянно задерживается</td>\n",
       "      <td>[delivery, promotions, price, assortment, support, доставка, постоянно, задерживается]</td>\n",
       "      <td>[delivery, promotions, price, assortment, support, доставка, постоянно, задерживаться]</td>\n",
       "      <td>delivery promotions price assortment support доставка постоянно задерживаться</td>\n",
       "    </tr>\n",
       "    <tr>\n",
       "      <th>3</th>\n",
       "      <td>25060</td>\n",
       "      <td>6.0</td>\n",
       "      <td>{PRICE,PROMOTIONS,ASSORTMENT}</td>\n",
       "      <td>Наценка и ассортимент расстраивают</td>\n",
       "      <td>0</td>\n",
       "      <td>0</td>\n",
       "      <td>0</td>\n",
       "      <td>0</td>\n",
       "      <td>0</td>\n",
       "      <td>0</td>\n",
       "      <td>...</td>\n",
       "      <td>0</td>\n",
       "      <td>0</td>\n",
       "      <td>0</td>\n",
       "      <td>34</td>\n",
       "      <td></td>\n",
       "      <td>{PRICE,PROMOTIONS,ASSORTMENT} Наценка и ассортимент расстраивают</td>\n",
       "      <td>price promotions assortment наценка и ассортимент расстраивают</td>\n",
       "      <td>[price, promotions, assortment, наценка, и, ассортимент, расстраивают]</td>\n",
       "      <td>[price, promotions, assortment, наценка, и, ассортимент, расстраивать]</td>\n",
       "      <td>price promotions assortment наценка и ассортимент расстраивать</td>\n",
       "    </tr>\n",
       "    <tr>\n",
       "      <th>4</th>\n",
       "      <td>15237</td>\n",
       "      <td>5.0</td>\n",
       "      <td>{ASSORTMENT,PRODUCTS_QUALITY,PROMOTIONS,CATALOG_NAVIGATION}</td>\n",
       "      <td>Доставка просто 👍</td>\n",
       "      <td>0</td>\n",
       "      <td>0</td>\n",
       "      <td>0</td>\n",
       "      <td>0</td>\n",
       "      <td>0</td>\n",
       "      <td>0</td>\n",
       "      <td>...</td>\n",
       "      <td>0</td>\n",
       "      <td>0</td>\n",
       "      <td>0</td>\n",
       "      <td>17</td>\n",
       "      <td>👍</td>\n",
       "      <td>{ASSORTMENT,PRODUCTS_QUALITY,PROMOTIONS,CATALOG_NAVIGATION} Доставка просто 👍</td>\n",
       "      <td>assortment productsquality promotions catalognavigation доставка просто 👍</td>\n",
       "      <td>[assortment, productsquality, promotions, catalognavigation, доставка, просто, 👍]</td>\n",
       "      <td>[assortment, productsquality, promotions, catalognavigation, доставка, просто, 👍]</td>\n",
       "      <td>assortment productsquality promotions catalognavigation доставка просто 👍</td>\n",
       "    </tr>\n",
       "  </tbody>\n",
       "</table>\n",
       "<p>5 rows × 61 columns</p>\n",
       "</div>"
      ],
      "text/plain": [
       "   index  assessment  \\\n",
       "0   5652         6.0   \n",
       "1  18092         4.0   \n",
       "2  13845         6.0   \n",
       "3  25060         6.0   \n",
       "4  15237         5.0   \n",
       "\n",
       "                                                          tags  \\\n",
       "0                             {ASSORTMENT,PROMOTIONS,DELIVERY}   \n",
       "1                 {ASSORTMENT,PRICE,PRODUCTS_QUALITY,DELIVERY}   \n",
       "2               {DELIVERY,PROMOTIONS,PRICE,ASSORTMENT,SUPPORT}   \n",
       "3                                {PRICE,PROMOTIONS,ASSORTMENT}   \n",
       "4  {ASSORTMENT,PRODUCTS_QUALITY,PROMOTIONS,CATALOG_NAVIGATION}   \n",
       "\n",
       "                                                                                 text  \\\n",
       "0  Маленький выбор товаров, хотелось бы ассортимент больше, а так вроде бы все хорошо   \n",
       "1                                                                              Быстро   \n",
       "2                                                    Доставка постоянно задерживается   \n",
       "3                                                  Наценка и ассортимент расстраивают   \n",
       "4                                                                   Доставка просто 👍   \n",
       "\n",
       "   trend_id_res0  trend_id_res1  trend_id_res2  trend_id_res3  trend_id_res4  \\\n",
       "0              0              0              0              0              0   \n",
       "1              0              0              0              0              0   \n",
       "2              0              0              0              1              0   \n",
       "3              0              0              0              0              0   \n",
       "4              0              0              0              0              0   \n",
       "\n",
       "   trend_id_res5  ...  trend_id_res47  trend_id_res48  trend_id_res49  \\\n",
       "0              0  ...               0               0               0   \n",
       "1              0  ...               0               0               0   \n",
       "2              0  ...               0               0               0   \n",
       "3              0  ...               0               0               0   \n",
       "4              0  ...               0               0               0   \n",
       "\n",
       "   text_length  emojis  \\\n",
       "0           82           \n",
       "1            6           \n",
       "2           32           \n",
       "3           34           \n",
       "4           17       👍   \n",
       "\n",
       "                                                                                                         combined_text  \\\n",
       "0  {ASSORTMENT,PROMOTIONS,DELIVERY} Маленький выбор товаров, хотелось бы ассортимент больше, а так вроде бы все хорошо   \n",
       "1                                                                  {ASSORTMENT,PRICE,PRODUCTS_QUALITY,DELIVERY} Быстро   \n",
       "2                                      {DELIVERY,PROMOTIONS,PRICE,ASSORTMENT,SUPPORT} Доставка постоянно задерживается   \n",
       "3                                                     {PRICE,PROMOTIONS,ASSORTMENT} Наценка и ассортимент расстраивают   \n",
       "4                                        {ASSORTMENT,PRODUCTS_QUALITY,PROMOTIONS,CATALOG_NAVIGATION} Доставка просто 👍   \n",
       "\n",
       "                                                                                                      cleaned_text  \\\n",
       "0  assortment promotions delivery маленький выбор товаров хотелось бы ассортимент больше а так вроде бы все хорошо   \n",
       "1                                                                 assortment price productsquality delivery быстро   \n",
       "2                                    delivery promotions price assortment support доставка постоянно задерживается   \n",
       "3                                                   price promotions assortment наценка и ассортимент расстраивают   \n",
       "4                                        assortment productsquality promotions catalognavigation доставка просто 👍   \n",
       "\n",
       "                                                                                                                             tokens  \\\n",
       "0  [assortment, promotions, delivery, маленький, выбор, товаров, хотелось, бы, ассортимент, больше, а, так, вроде, бы, все, хорошо]   \n",
       "1                                                                            [assortment, price, productsquality, delivery, быстро]   \n",
       "2                                            [delivery, promotions, price, assortment, support, доставка, постоянно, задерживается]   \n",
       "3                                                            [price, promotions, assortment, наценка, и, ассортимент, расстраивают]   \n",
       "4                                                 [assortment, productsquality, promotions, catalognavigation, доставка, просто, 👍]   \n",
       "\n",
       "                                                                                                                 lemmatized_tokens  \\\n",
       "0  [assortment, promotions, delivery, маленький, выбор, товар, хотеться, бы, ассортимент, большой, а, так, вроде, бы, всё, хорошо]   \n",
       "1                                                                           [assortment, price, productsquality, delivery, быстро]   \n",
       "2                                           [delivery, promotions, price, assortment, support, доставка, постоянно, задерживаться]   \n",
       "3                                                           [price, promotions, assortment, наценка, и, ассортимент, расстраивать]   \n",
       "4                                                [assortment, productsquality, promotions, catalognavigation, доставка, просто, 👍]   \n",
       "\n",
       "                                                                                                   processed_text  \n",
       "0  assortment promotions delivery маленький выбор товар хотеться бы ассортимент большой а так вроде бы всё хорошо  \n",
       "1                                                                assortment price productsquality delivery быстро  \n",
       "2                                   delivery promotions price assortment support доставка постоянно задерживаться  \n",
       "3                                                  price promotions assortment наценка и ассортимент расстраивать  \n",
       "4                                       assortment productsquality promotions catalognavigation доставка просто 👍  \n",
       "\n",
       "[5 rows x 61 columns]"
      ]
     },
     "execution_count": 25,
     "metadata": {},
     "output_type": "execute_result"
    }
   ],
   "source": [
    "train_data.head()"
   ]
  },
  {
   "cell_type": "code",
   "execution_count": 26,
   "id": "06929d7a",
   "metadata": {
    "execution": {
     "iopub.execute_input": "2025-01-24T17:17:34.687954Z",
     "iopub.status.busy": "2025-01-24T17:17:34.687747Z",
     "iopub.status.idle": "2025-01-24T17:17:34.694617Z",
     "shell.execute_reply": "2025-01-24T17:17:34.693900Z"
    },
    "papermill": {
     "duration": 0.020749,
     "end_time": "2025-01-24T17:17:34.695768",
     "exception": false,
     "start_time": "2025-01-24T17:17:34.675019",
     "status": "completed"
    },
    "tags": []
   },
   "outputs": [
    {
     "name": "stdout",
     "output_type": "stream",
     "text": [
      "Топ 10 популярных эмодзи:\n",
      "👍: 174\n",
      "🏻: 77\n",
      "❤: 74\n",
      "🔥: 33\n",
      "👌: 28\n",
      "🏼: 23\n",
      "🙏: 19\n",
      "👎: 16\n",
      "🥰: 15\n",
      "😊: 14\n"
     ]
    }
   ],
   "source": [
    "all_emojis = ''.join(train_data['emojis'].dropna())\n",
    "\n",
    "# Подсчитываем частоту каждого эмодзи\n",
    "emoji_counter = Counter(all_emojis)\n",
    "\n",
    "# Самые популярные эмодзи\n",
    "top_emojis = emoji_counter.most_common(10)\n",
    "\n",
    "print(\"Топ 10 популярных эмодзи:\")\n",
    "for emoji_char, count in top_emojis:\n",
    "    print(f\"{emoji_char}: {count}\")"
   ]
  },
  {
   "cell_type": "code",
   "execution_count": 27,
   "id": "d0e5552d",
   "metadata": {
    "execution": {
     "iopub.execute_input": "2025-01-24T17:17:34.721309Z",
     "iopub.status.busy": "2025-01-24T17:17:34.721096Z",
     "iopub.status.idle": "2025-01-24T17:17:34.732437Z",
     "shell.execute_reply": "2025-01-24T17:17:34.731787Z"
    },
    "papermill": {
     "duration": 0.025558,
     "end_time": "2025-01-24T17:17:34.733766",
     "exception": false,
     "start_time": "2025-01-24T17:17:34.708208",
     "status": "completed"
    },
    "tags": []
   },
   "outputs": [
    {
     "name": "stdout",
     "output_type": "stream",
     "text": [
      "Статистика по количеству меток:\n",
      "count    8708.000000\n",
      "mean        0.775838\n",
      "std         0.896149\n",
      "min         0.000000\n",
      "25%         0.000000\n",
      "50%         1.000000\n",
      "75%         1.000000\n",
      "max         4.000000\n",
      "Name: num_track, dtype: float64\n"
     ]
    }
   ],
   "source": [
    "# Подсчитаем количество меток, привязанных к каждому отзыву\n",
    "train_data['num_track'] = train_data[target_columns].sum(axis=1)\n",
    "print(\"Статистика по количеству меток:\")\n",
    "print(train_data['num_track'].describe())"
   ]
  },
  {
   "cell_type": "code",
   "execution_count": 28,
   "id": "ca88ec03",
   "metadata": {
    "execution": {
     "iopub.execute_input": "2025-01-24T17:17:34.761117Z",
     "iopub.status.busy": "2025-01-24T17:17:34.760914Z",
     "iopub.status.idle": "2025-01-24T17:17:34.791741Z",
     "shell.execute_reply": "2025-01-24T17:17:34.790918Z"
    },
    "papermill": {
     "duration": 0.046236,
     "end_time": "2025-01-24T17:17:34.792993",
     "exception": false,
     "start_time": "2025-01-24T17:17:34.746757",
     "status": "completed"
    },
    "tags": []
   },
   "outputs": [
    {
     "data": {
      "text/html": [
       "<div>\n",
       "<style scoped>\n",
       "    .dataframe tbody tr th:only-of-type {\n",
       "        vertical-align: middle;\n",
       "    }\n",
       "\n",
       "    .dataframe tbody tr th {\n",
       "        vertical-align: top;\n",
       "    }\n",
       "\n",
       "    .dataframe thead th {\n",
       "        text-align: right;\n",
       "    }\n",
       "</style>\n",
       "<table border=\"1\" class=\"dataframe\">\n",
       "  <thead>\n",
       "    <tr style=\"text-align: right;\">\n",
       "      <th></th>\n",
       "      <th>text</th>\n",
       "      <th>trend_id_res0</th>\n",
       "      <th>trend_id_res1</th>\n",
       "      <th>trend_id_res2</th>\n",
       "      <th>trend_id_res3</th>\n",
       "      <th>trend_id_res4</th>\n",
       "      <th>trend_id_res5</th>\n",
       "      <th>trend_id_res6</th>\n",
       "      <th>trend_id_res7</th>\n",
       "      <th>trend_id_res8</th>\n",
       "      <th>...</th>\n",
       "      <th>trend_id_res43</th>\n",
       "      <th>trend_id_res44</th>\n",
       "      <th>trend_id_res45</th>\n",
       "      <th>trend_id_res46</th>\n",
       "      <th>trend_id_res47</th>\n",
       "      <th>trend_id_res48</th>\n",
       "      <th>trend_id_res49</th>\n",
       "      <th>text_length</th>\n",
       "      <th>emojis</th>\n",
       "      <th>processed_text</th>\n",
       "    </tr>\n",
       "    <tr>\n",
       "      <th>index</th>\n",
       "      <th></th>\n",
       "      <th></th>\n",
       "      <th></th>\n",
       "      <th></th>\n",
       "      <th></th>\n",
       "      <th></th>\n",
       "      <th></th>\n",
       "      <th></th>\n",
       "      <th></th>\n",
       "      <th></th>\n",
       "      <th></th>\n",
       "      <th></th>\n",
       "      <th></th>\n",
       "      <th></th>\n",
       "      <th></th>\n",
       "      <th></th>\n",
       "      <th></th>\n",
       "      <th></th>\n",
       "      <th></th>\n",
       "      <th></th>\n",
       "      <th></th>\n",
       "    </tr>\n",
       "  </thead>\n",
       "  <tbody>\n",
       "    <tr>\n",
       "      <th>5652</th>\n",
       "      <td>Маленький выбор товаров, хотелось бы ассортимент больше, а так вроде бы все хорошо</td>\n",
       "      <td>0</td>\n",
       "      <td>0</td>\n",
       "      <td>0</td>\n",
       "      <td>0</td>\n",
       "      <td>0</td>\n",
       "      <td>0</td>\n",
       "      <td>0</td>\n",
       "      <td>0</td>\n",
       "      <td>0</td>\n",
       "      <td>...</td>\n",
       "      <td>0</td>\n",
       "      <td>0</td>\n",
       "      <td>0</td>\n",
       "      <td>0</td>\n",
       "      <td>0</td>\n",
       "      <td>0</td>\n",
       "      <td>0</td>\n",
       "      <td>82</td>\n",
       "      <td></td>\n",
       "      <td>assortment promotions delivery маленький выбор товар хотеться бы ассортимент большой а так вроде бы всё хорошо</td>\n",
       "    </tr>\n",
       "    <tr>\n",
       "      <th>18092</th>\n",
       "      <td>Быстро</td>\n",
       "      <td>0</td>\n",
       "      <td>0</td>\n",
       "      <td>0</td>\n",
       "      <td>0</td>\n",
       "      <td>0</td>\n",
       "      <td>0</td>\n",
       "      <td>0</td>\n",
       "      <td>0</td>\n",
       "      <td>0</td>\n",
       "      <td>...</td>\n",
       "      <td>0</td>\n",
       "      <td>0</td>\n",
       "      <td>0</td>\n",
       "      <td>0</td>\n",
       "      <td>0</td>\n",
       "      <td>0</td>\n",
       "      <td>0</td>\n",
       "      <td>6</td>\n",
       "      <td></td>\n",
       "      <td>assortment price productsquality delivery быстро</td>\n",
       "    </tr>\n",
       "    <tr>\n",
       "      <th>13845</th>\n",
       "      <td>Доставка постоянно задерживается</td>\n",
       "      <td>0</td>\n",
       "      <td>0</td>\n",
       "      <td>0</td>\n",
       "      <td>1</td>\n",
       "      <td>0</td>\n",
       "      <td>0</td>\n",
       "      <td>0</td>\n",
       "      <td>0</td>\n",
       "      <td>0</td>\n",
       "      <td>...</td>\n",
       "      <td>0</td>\n",
       "      <td>0</td>\n",
       "      <td>0</td>\n",
       "      <td>0</td>\n",
       "      <td>0</td>\n",
       "      <td>0</td>\n",
       "      <td>0</td>\n",
       "      <td>32</td>\n",
       "      <td></td>\n",
       "      <td>delivery promotions price assortment support доставка постоянно задерживаться</td>\n",
       "    </tr>\n",
       "    <tr>\n",
       "      <th>25060</th>\n",
       "      <td>Наценка и ассортимент расстраивают</td>\n",
       "      <td>0</td>\n",
       "      <td>0</td>\n",
       "      <td>0</td>\n",
       "      <td>0</td>\n",
       "      <td>0</td>\n",
       "      <td>0</td>\n",
       "      <td>0</td>\n",
       "      <td>0</td>\n",
       "      <td>0</td>\n",
       "      <td>...</td>\n",
       "      <td>0</td>\n",
       "      <td>0</td>\n",
       "      <td>0</td>\n",
       "      <td>0</td>\n",
       "      <td>0</td>\n",
       "      <td>0</td>\n",
       "      <td>0</td>\n",
       "      <td>34</td>\n",
       "      <td></td>\n",
       "      <td>price promotions assortment наценка и ассортимент расстраивать</td>\n",
       "    </tr>\n",
       "    <tr>\n",
       "      <th>15237</th>\n",
       "      <td>Доставка просто 👍</td>\n",
       "      <td>0</td>\n",
       "      <td>0</td>\n",
       "      <td>0</td>\n",
       "      <td>0</td>\n",
       "      <td>0</td>\n",
       "      <td>0</td>\n",
       "      <td>0</td>\n",
       "      <td>0</td>\n",
       "      <td>0</td>\n",
       "      <td>...</td>\n",
       "      <td>0</td>\n",
       "      <td>0</td>\n",
       "      <td>0</td>\n",
       "      <td>0</td>\n",
       "      <td>0</td>\n",
       "      <td>0</td>\n",
       "      <td>0</td>\n",
       "      <td>17</td>\n",
       "      <td>👍</td>\n",
       "      <td>assortment productsquality promotions catalognavigation доставка просто 👍</td>\n",
       "    </tr>\n",
       "  </tbody>\n",
       "</table>\n",
       "<p>5 rows × 54 columns</p>\n",
       "</div>"
      ],
      "text/plain": [
       "                                                                                     text  \\\n",
       "index                                                                                       \n",
       "5652   Маленький выбор товаров, хотелось бы ассортимент больше, а так вроде бы все хорошо   \n",
       "18092                                                                              Быстро   \n",
       "13845                                                    Доставка постоянно задерживается   \n",
       "25060                                                  Наценка и ассортимент расстраивают   \n",
       "15237                                                                   Доставка просто 👍   \n",
       "\n",
       "       trend_id_res0  trend_id_res1  trend_id_res2  trend_id_res3  \\\n",
       "index                                                               \n",
       "5652               0              0              0              0   \n",
       "18092              0              0              0              0   \n",
       "13845              0              0              0              1   \n",
       "25060              0              0              0              0   \n",
       "15237              0              0              0              0   \n",
       "\n",
       "       trend_id_res4  trend_id_res5  trend_id_res6  trend_id_res7  \\\n",
       "index                                                               \n",
       "5652               0              0              0              0   \n",
       "18092              0              0              0              0   \n",
       "13845              0              0              0              0   \n",
       "25060              0              0              0              0   \n",
       "15237              0              0              0              0   \n",
       "\n",
       "       trend_id_res8  ...  trend_id_res43  trend_id_res44  trend_id_res45  \\\n",
       "index                 ...                                                   \n",
       "5652               0  ...               0               0               0   \n",
       "18092              0  ...               0               0               0   \n",
       "13845              0  ...               0               0               0   \n",
       "25060              0  ...               0               0               0   \n",
       "15237              0  ...               0               0               0   \n",
       "\n",
       "       trend_id_res46  trend_id_res47  trend_id_res48  trend_id_res49  \\\n",
       "index                                                                   \n",
       "5652                0               0               0               0   \n",
       "18092               0               0               0               0   \n",
       "13845               0               0               0               0   \n",
       "25060               0               0               0               0   \n",
       "15237               0               0               0               0   \n",
       "\n",
       "       text_length  emojis  \\\n",
       "index                        \n",
       "5652            82           \n",
       "18092            6           \n",
       "13845           32           \n",
       "25060           34           \n",
       "15237           17       👍   \n",
       "\n",
       "                                                                                                       processed_text  \n",
       "index                                                                                                                  \n",
       "5652   assortment promotions delivery маленький выбор товар хотеться бы ассортимент большой а так вроде бы всё хорошо  \n",
       "18092                                                                assortment price productsquality delivery быстро  \n",
       "13845                                   delivery promotions price assortment support доставка постоянно задерживаться  \n",
       "25060                                                  price promotions assortment наценка и ассортимент расстраивать  \n",
       "15237                                       assortment productsquality promotions catalognavigation доставка просто 👍  \n",
       "\n",
       "[5 rows x 54 columns]"
      ]
     },
     "execution_count": 28,
     "metadata": {},
     "output_type": "execute_result"
    }
   ],
   "source": [
    "#Удалим ненужные столбцы из датафрейма\n",
    "columns_to_drop = ['num_track', 'cleaned_text', 'tokens', 'lemmatized_tokens', 'assessment', 'tags', 'combined_text']\n",
    "train_data = train_data.drop(columns=columns_to_drop, axis=1)\n",
    "train_data = train_data.set_index(\"index\")\n",
    "test_data = test_data.set_index(\"index\")\n",
    "\n",
    "train_data.head()"
   ]
  },
  {
   "cell_type": "markdown",
   "id": "9d3bebb7",
   "metadata": {
    "papermill": {
     "duration": 0.012591,
     "end_time": "2025-01-24T17:17:34.818684",
     "exception": false,
     "start_time": "2025-01-24T17:17:34.806093",
     "status": "completed"
    },
    "tags": []
   },
   "source": [
    "На этом этапе были проанализиррованы самые популярные эмодзи, была приведена статистика по меткам и удалены ненужные столбцы из датафрейма"
   ]
  },
  {
   "cell_type": "markdown",
   "id": "2629bb4d",
   "metadata": {
    "papermill": {
     "duration": 0.012503,
     "end_time": "2025-01-24T17:17:34.844082",
     "exception": false,
     "start_time": "2025-01-24T17:17:34.831579",
     "status": "completed"
    },
    "tags": []
   },
   "source": [
    "## Подбор модели и гиперпараметров"
   ]
  },
  {
   "cell_type": "markdown",
   "id": "06816ee8",
   "metadata": {
    "papermill": {
     "duration": 0.012399,
     "end_time": "2025-01-24T17:17:34.869129",
     "exception": false,
     "start_time": "2025-01-24T17:17:34.856730",
     "status": "completed"
    },
    "tags": []
   },
   "source": [
    "Подготовим данные"
   ]
  },
  {
   "cell_type": "code",
   "execution_count": 29,
   "id": "52be1e53",
   "metadata": {
    "execution": {
     "iopub.execute_input": "2025-01-24T17:17:34.895096Z",
     "iopub.status.busy": "2025-01-24T17:17:34.894837Z",
     "iopub.status.idle": "2025-01-24T17:17:34.899688Z",
     "shell.execute_reply": "2025-01-24T17:17:34.898761Z"
    },
    "papermill": {
     "duration": 0.019092,
     "end_time": "2025-01-24T17:17:34.900852",
     "exception": false,
     "start_time": "2025-01-24T17:17:34.881760",
     "status": "completed"
    },
    "tags": []
   },
   "outputs": [],
   "source": [
    "X = train_data[\"processed_text\"].values\n",
    "y = train_data[target_columns].values"
   ]
  },
  {
   "cell_type": "code",
   "execution_count": 30,
   "id": "8e14a1b6",
   "metadata": {
    "execution": {
     "iopub.execute_input": "2025-01-24T17:17:34.926689Z",
     "iopub.status.busy": "2025-01-24T17:17:34.926412Z",
     "iopub.status.idle": "2025-01-24T17:17:34.933275Z",
     "shell.execute_reply": "2025-01-24T17:17:34.932695Z"
    },
    "papermill": {
     "duration": 0.020981,
     "end_time": "2025-01-24T17:17:34.934344",
     "exception": false,
     "start_time": "2025-01-24T17:17:34.913363",
     "status": "completed"
    },
    "tags": []
   },
   "outputs": [],
   "source": [
    "# Разделение данных на тренировочную и валидационную выборки\n",
    "X_train, X_val, y_train, y_val = train_test_split(\n",
    "    X,\n",
    "    y,\n",
    "    test_size=0.2,\n",
    "    random_state=42\n",
    ")"
   ]
  },
  {
   "cell_type": "code",
   "execution_count": 31,
   "id": "0d862bfc",
   "metadata": {
    "execution": {
     "iopub.execute_input": "2025-01-24T17:17:34.960499Z",
     "iopub.status.busy": "2025-01-24T17:17:34.960262Z",
     "iopub.status.idle": "2025-01-24T17:17:35.909945Z",
     "shell.execute_reply": "2025-01-24T17:17:35.908977Z"
    },
    "papermill": {
     "duration": 0.964218,
     "end_time": "2025-01-24T17:17:35.911258",
     "exception": false,
     "start_time": "2025-01-24T17:17:34.947040",
     "status": "completed"
    },
    "tags": []
   },
   "outputs": [
    {
     "data": {
      "application/vnd.jupyter.widget-view+json": {
       "model_id": "6a6c503fccbc41b1ad1d80249988b765",
       "version_major": 2,
       "version_minor": 0
      },
      "text/plain": [
       "tokenizer_config.json:   0%|          | 0.00/24.0 [00:00<?, ?B/s]"
      ]
     },
     "metadata": {},
     "output_type": "display_data"
    },
    {
     "data": {
      "application/vnd.jupyter.widget-view+json": {
       "model_id": "d223fbedb6c2416b97d92995884b4ebf",
       "version_major": 2,
       "version_minor": 0
      },
      "text/plain": [
       "config.json:   0%|          | 0.00/642 [00:00<?, ?B/s]"
      ]
     },
     "metadata": {},
     "output_type": "display_data"
    },
    {
     "data": {
      "application/vnd.jupyter.widget-view+json": {
       "model_id": "95923f2e147240d5a39c8200ecda0b78",
       "version_major": 2,
       "version_minor": 0
      },
      "text/plain": [
       "vocab.txt:   0%|          | 0.00/1.65M [00:00<?, ?B/s]"
      ]
     },
     "metadata": {},
     "output_type": "display_data"
    },
    {
     "data": {
      "application/vnd.jupyter.widget-view+json": {
       "model_id": "3a9ecc9df1464313a621fda40a93d018",
       "version_major": 2,
       "version_minor": 0
      },
      "text/plain": [
       "special_tokens_map.json:   0%|          | 0.00/112 [00:00<?, ?B/s]"
      ]
     },
     "metadata": {},
     "output_type": "display_data"
    },
    {
     "name": "stderr",
     "output_type": "stream",
     "text": [
      "/usr/local/lib/python3.10/dist-packages/transformers/tokenization_utils_base.py:1601: FutureWarning: `clean_up_tokenization_spaces` was not set. It will be set to `True` by default. This behavior will be depracted in transformers v4.45, and will be then set to `False` by default. For more details check this issue: https://github.com/huggingface/transformers/issues/31884\n",
      "  warnings.warn(\n"
     ]
    }
   ],
   "source": [
    "#tokenizer = AutoTokenizer.from_pretrained(\"sberbank-ai/ruRoberta-large\")\n",
    "tokenizer = AutoTokenizer.from_pretrained(\"DeepPavlov/rubert-base-cased\")\n",
    "\n",
    "# Созадем датасеты \n",
    "class TextDataset(Dataset):\n",
    "    def __init__(self, texts, labels, tokenizer, max_length=128):\n",
    "        self.texts = texts\n",
    "        self.labels = labels\n",
    "        self.tokenizer = tokenizer\n",
    "        self.max_length = max_length\n",
    "\n",
    "    def __len__(self):\n",
    "        return len(self.texts)\n",
    "\n",
    "    def __getitem__(self, idx):\n",
    "        text = self.texts[idx]\n",
    "        labels = self.labels[idx]\n",
    "        tokens = self.tokenizer(\n",
    "            text,\n",
    "            padding='max_length',\n",
    "            truncation=True,\n",
    "            max_length=self.max_length,\n",
    "            return_tensors=\"pt\"\n",
    "        )\n",
    "        return {\n",
    "            'input_ids': tokens['input_ids'].squeeze(0),\n",
    "            'attention_mask': tokens['attention_mask'].squeeze(0),\n",
    "            'labels': torch.tensor(labels, dtype=torch.float)\n",
    "        }\n",
    "\n",
    "# Даталоадеры для эффективного обучения\n",
    "train_dataset = TextDataset(X_train, y_train, tokenizer)\n",
    "val_dataset = TextDataset(X_val, y_val, tokenizer)\n",
    "train_loader = DataLoader(train_dataset, batch_size=16, shuffle=True)\n",
    "val_loader = DataLoader(val_dataset, batch_size=16)"
   ]
  },
  {
   "cell_type": "markdown",
   "id": "ffdab38b",
   "metadata": {
    "papermill": {
     "duration": 0.01308,
     "end_time": "2025-01-24T17:17:35.938426",
     "exception": false,
     "start_time": "2025-01-24T17:17:35.925346",
     "status": "completed"
    },
    "tags": []
   },
   "source": [
    "Модель DeepPavlov/rubert-base-cased способна обрабатывать смешанные тексты, но с некоторыми ограничениями в части обработки английского языка. Если русский текст доминирует, модель выполнит задачу с приемлемым качеством."
   ]
  },
  {
   "cell_type": "code",
   "execution_count": 32,
   "id": "641399d6",
   "metadata": {
    "execution": {
     "iopub.execute_input": "2025-01-24T17:17:35.965409Z",
     "iopub.status.busy": "2025-01-24T17:17:35.965131Z",
     "iopub.status.idle": "2025-01-24T17:17:40.513119Z",
     "shell.execute_reply": "2025-01-24T17:17:40.512422Z"
    },
    "papermill": {
     "duration": 4.563203,
     "end_time": "2025-01-24T17:17:40.514694",
     "exception": false,
     "start_time": "2025-01-24T17:17:35.951491",
     "status": "completed"
    },
    "tags": []
   },
   "outputs": [
    {
     "data": {
      "application/vnd.jupyter.widget-view+json": {
       "model_id": "8c61f69100784ea7a29f13709b563718",
       "version_major": 2,
       "version_minor": 0
      },
      "text/plain": [
       "pytorch_model.bin:   0%|          | 0.00/714M [00:00<?, ?B/s]"
      ]
     },
     "metadata": {},
     "output_type": "display_data"
    },
    {
     "name": "stderr",
     "output_type": "stream",
     "text": [
      "Some weights of the model checkpoint at DeepPavlov/rubert-base-cased were not used when initializing BertModel: ['cls.predictions.bias', 'cls.predictions.decoder.bias', 'cls.predictions.decoder.weight', 'cls.predictions.transform.LayerNorm.bias', 'cls.predictions.transform.LayerNorm.weight', 'cls.predictions.transform.dense.bias', 'cls.predictions.transform.dense.weight', 'cls.seq_relationship.bias', 'cls.seq_relationship.weight']\n",
      "- This IS expected if you are initializing BertModel from the checkpoint of a model trained on another task or with another architecture (e.g. initializing a BertForSequenceClassification model from a BertForPreTraining model).\n",
      "- This IS NOT expected if you are initializing BertModel from the checkpoint of a model that you expect to be exactly identical (initializing a BertForSequenceClassification model from a BertForSequenceClassification model).\n"
     ]
    }
   ],
   "source": [
    "# Строим архитектуру на основе преобученной модели\n",
    "class MultiLabelClassifier(torch.nn.Module):\n",
    "    def __init__(self, model_name, num_labels):\n",
    "        super(MultiLabelClassifier, self).__init__()\n",
    "        self.config = AutoConfig.from_pretrained(model_name, num_labels=num_labels)\n",
    "        self.bert = AutoModel.from_pretrained(model_name, config=self.config)\n",
    "        # Добавляем линейный классификатор\n",
    "        self.classifier = torch.nn.Linear(self.config.hidden_size, num_labels)\n",
    "\n",
    "    def forward(self, input_ids, attention_mask):\n",
    "        outputs = self.bert(input_ids=input_ids, attention_mask=attention_mask)\n",
    "        # Выбираем скрытое состояние для CLS токена\n",
    "        logits = self.classifier(outputs.last_hidden_state[:, 0, :])\n",
    "        return logits\n",
    "\n",
    "model = MultiLabelClassifier(\"DeepPavlov/rubert-base-cased\", len(target_columns)).to(\"cuda\")\n",
    "#model = MultiLabelClassifier(\"sberbank-ai/ruRoberta-large\", len(target_columns)).to(\"cuda\")"
   ]
  },
  {
   "cell_type": "markdown",
   "id": "cfbeed5e",
   "metadata": {
    "papermill": {
     "duration": 0.013518,
     "end_time": "2025-01-24T17:17:40.545847",
     "exception": false,
     "start_time": "2025-01-24T17:17:40.532329",
     "status": "completed"
    },
    "tags": []
   },
   "source": [
    "В ходе работы были опробованы несколько преобученных моделей на русском языке, самыми лучшими стали DeepPavlov/rubert-base-cased и sberbank-ai/ruRoberta-large. В среднем моедль от команды DeepPavlov дает нужные нам метрики выше на 0.04."
   ]
  },
  {
   "cell_type": "markdown",
   "id": "3c96ad76",
   "metadata": {
    "papermill": {
     "duration": 0.013079,
     "end_time": "2025-01-24T17:17:40.572359",
     "exception": false,
     "start_time": "2025-01-24T17:17:40.559280",
     "status": "completed"
    },
    "tags": []
   },
   "source": [
    "Ниже приведен код, который использовался, чтобы улучшить нашу модель, но со своей задачей не справился.\n",
    "\n",
    "\n",
    "Чтобы решить проблему дисбаланса классов, можно добавить веса, что должно помочь модели предскаывать редкие классы."
   ]
  },
  {
   "cell_type": "markdown",
   "id": "bce30e46",
   "metadata": {
    "execution": {
     "iopub.execute_input": "2025-01-14T10:07:59.105683Z",
     "iopub.status.busy": "2025-01-14T10:07:59.105434Z",
     "iopub.status.idle": "2025-01-14T10:08:01.169698Z",
     "shell.execute_reply": "2025-01-14T10:08:01.168756Z",
     "shell.execute_reply.started": "2025-01-14T10:07:59.105661Z"
    },
    "papermill": {
     "duration": 0.013156,
     "end_time": "2025-01-24T17:17:40.598928",
     "exception": false,
     "start_time": "2025-01-24T17:17:40.585772",
     "status": "completed"
    },
    "tags": []
   },
   "source": [
    "```\n",
    "Вычисление весов для классов\n",
    "def calculate_class_weights(labels):\n",
    "    class_counts = labels.sum(dim=0)\n",
    "    class_weights = 1.0 / (class_counts / class_counts.sum())\n",
    "    return class_weights\n",
    "\n",
    "all_labels = torch.cat([batch['labels'] for batch in train_loader], dim=0)\n",
    "class_weights = calculate_class_weights(all_labels)\n",
    "pos_weight = class_weights.to(\"cuda\")\n",
    "'''"
   ]
  },
  {
   "cell_type": "markdown",
   "id": "f9db7898",
   "metadata": {
    "papermill": {
     "duration": 0.013069,
     "end_time": "2025-01-24T17:17:40.625647",
     "exception": false,
     "start_time": "2025-01-24T17:17:40.612578",
     "status": "completed"
    },
    "tags": []
   },
   "source": [
    "Второй идеей для борьбы с дисбалансом стала улучшенная метрика, которая лучше учитывает дисбаланс - FocalLoss."
   ]
  },
  {
   "cell_type": "markdown",
   "id": "cbf476d0",
   "metadata": {
    "execution": {
     "iopub.execute_input": "2025-01-16T08:19:28.675381Z",
     "iopub.status.busy": "2025-01-16T08:19:28.675111Z",
     "iopub.status.idle": "2025-01-16T08:19:28.680383Z",
     "shell.execute_reply": "2025-01-16T08:19:28.679600Z",
     "shell.execute_reply.started": "2025-01-16T08:19:28.675360Z"
    },
    "papermill": {
     "duration": 0.01685,
     "end_time": "2025-01-24T17:17:40.655861",
     "exception": false,
     "start_time": "2025-01-24T17:17:40.639011",
     "status": "completed"
    },
    "tags": []
   },
   "source": [
    "```\n",
    "Функция потерь FocalLoss\n",
    "classclass FocalLoss(torch.nn.Module):\n",
    "    def __init__(self, alpha=1, gamma=2, reduction='mean'):\n",
    "        super(FocalLoss, self).__init__()\n",
    "        self.alpha = alpha\n",
    "        self.gamma = gamma\n",
    "        self.reduction = reduction\n",
    "\n",
    "    def forward(self, inputs, targets):\n",
    "        BCE_loss = torch.nn.functional.binary_cross_entropy_with_logits(inputs, targets, reduction='none')\n",
    "        pt = torch.exp(-BCE_loss) \n",
    "        focal_loss = self.alpha * (1 - pt) ** self.gamma * BCE_loss\n",
    "        \n",
    "        if self.reduction == 'mean':\n",
    "            return torch.mean(focal_loss)\n",
    "        elif self.reduction == 'sum':\n",
    "            return torch.sum(focal_loss)\n",
    "        else:\n",
    "            return focal_loss"
   ]
  },
  {
   "cell_type": "markdown",
   "id": "688acba7",
   "metadata": {
    "papermill": {
     "duration": 0.019192,
     "end_time": "2025-01-24T17:17:40.690977",
     "exception": false,
     "start_time": "2025-01-24T17:17:40.671785",
     "status": "completed"
    },
    "tags": []
   },
   "source": [
    "Далее осуществлялся подбор гиперпараметров для optimizer, FocalLoss."
   ]
  },
  {
   "cell_type": "markdown",
   "id": "bb35ce07",
   "metadata": {
    "execution": {
     "iopub.execute_input": "2025-01-16T08:19:28.681578Z",
     "iopub.status.busy": "2025-01-16T08:19:28.681286Z",
     "iopub.status.idle": "2025-01-16T08:19:28.700929Z",
     "shell.execute_reply": "2025-01-16T08:19:28.700222Z",
     "shell.execute_reply.started": "2025-01-16T08:19:28.681548Z"
    },
    "papermill": {
     "duration": 0.016188,
     "end_time": "2025-01-24T17:17:40.723552",
     "exception": false,
     "start_time": "2025-01-24T17:17:40.707364",
     "status": "completed"
    },
    "tags": []
   },
   "source": [
    "```\n",
    "Подбор гиперпараметров для моделей \n",
    "def objective(trial):\n",
    "    learning_rate = trial.suggest_float(\"lr\", 1e-6, 1e-4, log=True)\n",
    "    dropout_rate = trial.suggest_float(\"dropout\", 0.1, 0.5)\n",
    "    alpha = trial.suggest_float(\"alpha\", 0.5, 2.0)\n",
    "    gamma = trial.suggest_float(\"gamma\", 1.0, 5.0)\n",
    "\n",
    "\n",
    "    class MultiLabelClassifier(torch.nn.Module):\n",
    "        def __init__(self, model_name, num_labels):\n",
    "            super(MultiLabelClassifier, self).__init__()\n",
    "            self.config = AutoConfig.from_pretrained(model_name)\n",
    "            self.base_model = AutoModel.from_pretrained(model_name, config=self.config)\n",
    "            for param in self.base_model.parameters():\n",
    "                param.requires_grad = False\n",
    "            \n",
    "            self.classifier = torch.nn.Sequential(\n",
    "                torch.nn.Linear(self.config.hidden_size, 256),\n",
    "                torch.nn.ReLU(),\n",
    "                torch.nn.Dropout(dropout_rate),  # Используем гиперпараметр dropout\n",
    "                torch.nn.Linear(256, num_labels)\n",
    "            )\n",
    "\n",
    "        def forward(self, input_ids, attention_mask):\n",
    "            with torch.no_grad():\n",
    "                outputs = self.base_model(input_ids=input_ids, attention_mask=attention_mask)\n",
    "            cls_output = outputs.last_hidden_state[:, 0, :]\n",
    "            logits = self.classifier(cls_output)\n",
    "            return logits\n",
    "\n",
    "\n",
    "    model = MultiLabelClassifier(\"DeepPavlov/rubert-base-cased\", len(target_columns)).to(\"cuda\")\n",
    "    optimizer = AdamW(model.classifier.parameters(), lr=learning_rate)\n",
    "    \n",
    "\n",
    "    criterion = FocalLoss(alpha=alpha, gamma=gamma)\n",
    "    \n",
    "\n",
    "    num_training_steps = len(train_loader) * 3 \n",
    "    lr_scheduler = get_scheduler(\"linear\", optimizer=optimizer, num_warmup_steps=0, num_training_steps=num_training_steps)\n",
    "\n",
    "    def train_and_validate(model, train_loader, val_loader):\n",
    "        model.train()\n",
    "        for batch in train_loader:\n",
    "            optimizer.zero_grad()\n",
    "            input_ids = batch['input_ids'].to(\"cuda\")\n",
    "            attention_mask = batch['attention_mask'].to(\"cuda\")\n",
    "            labels = batch['labels'].to(\"cuda\")\n",
    "\n",
    "            logits = model(input_ids, attention_mask)\n",
    "            loss = criterion(logits, labels)\n",
    "            loss.backward()\n",
    "            optimizer.step()\n",
    "        \n",
    "        model.eval()\n",
    "        val_loss = 0\n",
    "        preds, true_labels = [], []\n",
    "        with torch.no_grad():\n",
    "            for batch in val_loader:\n",
    "                input_ids = batch['input_ids'].to(\"cuda\")\n",
    "                attention_mask = batch['attention_mask'].to(\"cuda\")\n",
    "                labels = batch['labels'].to(\"cuda\")\n",
    "\n",
    "                logits = model(input_ids, attention_mask)\n",
    "                val_loss += criterion(logits, labels).item()\n",
    "\n",
    "                preds.append((torch.sigmoid(logits) > 0.5).cpu().numpy())\n",
    "                true_labels.append(labels.cpu().numpy())\n",
    "\n",
    "        val_loss /= len(val_loader)\n",
    "        preds = np.vstack(preds)\n",
    "        true_labels = np.vstack(true_labels)\n",
    "        accuracy = np.mean(np.all(preds == true_labels, axis=1))\n",
    "        \n",
    "        return val_loss, accuracy\n",
    "\n",
    "\n",
    "    val_loss, accuracy = train_and_validate(model, train_loader, val_loader)\n",
    "    \n",
    "\n",
    "    return val_loss"
   ]
  },
  {
   "cell_type": "markdown",
   "id": "faf94cb1",
   "metadata": {
    "execution": {
     "iopub.execute_input": "2025-01-16T08:19:28.702147Z",
     "iopub.status.busy": "2025-01-16T08:19:28.701820Z"
    },
    "papermill": {
     "duration": 0.013118,
     "end_time": "2025-01-24T17:17:40.750566",
     "exception": false,
     "start_time": "2025-01-24T17:17:40.737448",
     "status": "completed"
    },
    "tags": []
   },
   "source": [
    "```\n",
    "study = optuna.create_study(direction=\"minimize\")\n",
    "study.optimize(objective, n_trials=20)\n",
    "\n",
    "# Лучшие гиперпараметры\n",
    "print(\"Best trial:\")\n",
    "print(study.best_trial.params)"
   ]
  },
  {
   "cell_type": "markdown",
   "id": "d427d2c3",
   "metadata": {
    "papermill": {
     "duration": 0.014305,
     "end_time": "2025-01-24T17:17:40.778328",
     "exception": false,
     "start_time": "2025-01-24T17:17:40.764023",
     "status": "completed"
    },
    "tags": []
   },
   "source": [
    "## Обучение модели и анализ ошибок"
   ]
  },
  {
   "cell_type": "markdown",
   "id": "5e22231b",
   "metadata": {
    "papermill": {
     "duration": 0.013559,
     "end_time": "2025-01-24T17:17:40.805363",
     "exception": false,
     "start_time": "2025-01-24T17:17:40.791804",
     "status": "completed"
    },
    "tags": []
   },
   "source": [
    "Для обучения нашей модели напишем функцию обучения и валидации, оптимизатором выберем AdamW так как он универсален, также для learning rate будем исполькзовать lr_scheduler чтобы постепенно изменять lr для эффективности нахождения минимума. В качестве функции потерь возьмем BCEWithLogitsLoss из-за ее простоты и производительности."
   ]
  },
  {
   "cell_type": "code",
   "execution_count": 33,
   "id": "dd065836",
   "metadata": {
    "execution": {
     "iopub.execute_input": "2025-01-24T17:17:40.833059Z",
     "iopub.status.busy": "2025-01-24T17:17:40.832768Z",
     "iopub.status.idle": "2025-01-24T17:17:41.598045Z",
     "shell.execute_reply": "2025-01-24T17:17:41.597362Z"
    },
    "papermill": {
     "duration": 0.78102,
     "end_time": "2025-01-24T17:17:41.599641",
     "exception": false,
     "start_time": "2025-01-24T17:17:40.818621",
     "status": "completed"
    },
    "tags": []
   },
   "outputs": [
    {
     "name": "stderr",
     "output_type": "stream",
     "text": [
      "/usr/local/lib/python3.10/dist-packages/transformers/optimization.py:591: FutureWarning: This implementation of AdamW is deprecated and will be removed in a future version. Use the PyTorch implementation torch.optim.AdamW instead, or set `no_deprecation_warning=True` to disable this warning\n",
      "  warnings.warn(\n"
     ]
    }
   ],
   "source": [
    "optimizer = AdamW(model.parameters(), lr=9e-5)\n",
    "num_training_steps = len(train_loader) * 20\n",
    "lr_scheduler = get_scheduler(\"linear\", optimizer=optimizer, num_warmup_steps=0, num_training_steps=num_training_steps)\n",
    "criterion = torch.nn.BCEWithLogitsLoss()\n",
    "#criterion = torch.nn.BCEWithLogitsLoss(pos_weight=pos_weight)\n",
    "#criterion = FocalLoss(alpha=0.25, gamma=2.0)\n",
    "\n",
    "# функция тренировки и валидации\n",
    "def train_model(model, train_loader, val_loader, optimizer, scheduler, criterion, num_epochs=20):\n",
    "    train_losses = []\n",
    "    val_losses = []\n",
    "    accuracies = []\n",
    "    best_accuracy = 0\n",
    "    best_model_path = \"best_model.pth\"\n",
    "\n",
    "    for epoch in range(num_epochs):\n",
    "        model.train()\n",
    "        train_loss = 0\n",
    "        for batch in train_loader:\n",
    "            input_ids = batch['input_ids'].to(\"cuda\")\n",
    "            attention_mask = batch['attention_mask'].to(\"cuda\")\n",
    "            labels = batch['labels'].to(\"cuda\")\n",
    "\n",
    "            optimizer.zero_grad()\n",
    "            logits = model(input_ids, attention_mask)\n",
    "            loss = criterion(logits, labels)\n",
    "            loss.backward()\n",
    "            optimizer.step()\n",
    "            scheduler.step()\n",
    "\n",
    "            train_loss += loss.item()\n",
    "            \n",
    "        train_losses.append(train_loss / len(train_loader))\n",
    "        print(f\"Epoch {epoch+1}, Train Loss: {train_loss / len(train_loader):.4f}\")\n",
    "\n",
    "        # Валивадция\n",
    "        model.eval()\n",
    "        val_loss = 0\n",
    "        preds, true_labels = [], []\n",
    "        with torch.no_grad():\n",
    "            for batch in val_loader:\n",
    "                input_ids = batch['input_ids'].to(\"cuda\")\n",
    "                attention_mask = batch['attention_mask'].to(\"cuda\")\n",
    "                labels = batch['labels'].to(\"cuda\")\n",
    "\n",
    "                logits = model(input_ids, attention_mask)\n",
    "                loss = criterion(logits, labels)\n",
    "                val_loss += loss.item()\n",
    "\n",
    "                preds.append((torch.sigmoid(logits) > 0.5).cpu().numpy())\n",
    "                true_labels.append(labels.cpu().numpy())\n",
    "\n",
    "        val_losses.append(val_loss / len(val_loader))\n",
    "        preds = np.vstack(preds)\n",
    "        true_labels = np.vstack(true_labels)\n",
    "        accuracy = np.mean(np.all(preds == true_labels, axis=1))\n",
    "        accuracies.append(accuracy)\n",
    "        print(f\"Validation Loss: {val_loss / len(val_loader):.4f}, Accuracy: {accuracy:.4f}\")\n",
    "\n",
    "\n",
    "        if accuracy > best_accuracy:\n",
    "            best_accuracy = accuracy\n",
    "            torch.save(model.state_dict(), best_model_path)\n",
    "            print(f\"Best model saved at epoch {epoch+1} with accuracy {best_accuracy:.4f}\")\n",
    "            \n",
    "    # Графифки loss и acuracy\n",
    "    plt.figure(figsize=(12, 5))\n",
    "    plt.subplot(1, 2, 1)\n",
    "    plt.plot(train_losses, label='Train Loss')\n",
    "    plt.plot(val_losses, label='Validation Loss')\n",
    "    plt.xlabel('Epoch')\n",
    "    plt.ylabel('Loss')\n",
    "    plt.title('Loss per Epoch')\n",
    "    plt.legend()\n",
    "\n",
    "    plt.subplot(1, 2, 2)\n",
    "    plt.plot(accuracies, label='Validation Accuracy')\n",
    "    plt.xlabel('Epoch')\n",
    "    plt.ylabel('Accuracy')\n",
    "    plt.title('Accuracy per Epoch')\n",
    "    plt.legend()\n",
    "    plt.tight_layout()\n",
    "    plt.show()\n",
    "\n",
    "    return preds, true_labels"
   ]
  },
  {
   "cell_type": "code",
   "execution_count": 34,
   "id": "617025ab",
   "metadata": {
    "execution": {
     "iopub.execute_input": "2025-01-24T17:17:41.628131Z",
     "iopub.status.busy": "2025-01-24T17:17:41.627871Z",
     "iopub.status.idle": "2025-01-24T18:20:41.843963Z",
     "shell.execute_reply": "2025-01-24T18:20:41.843012Z"
    },
    "papermill": {
     "duration": 3780.231686,
     "end_time": "2025-01-24T18:20:41.845730",
     "exception": false,
     "start_time": "2025-01-24T17:17:41.614044",
     "status": "completed"
    },
    "tags": []
   },
   "outputs": [
    {
     "name": "stdout",
     "output_type": "stream",
     "text": [
      "Epoch 1, Train Loss: 0.0831\n",
      "Validation Loss: 0.0560, Accuracy: 0.4604\n",
      "Best model saved at epoch 1 with accuracy 0.4604\n",
      "Epoch 2, Train Loss: 0.0487\n",
      "Validation Loss: 0.0473, Accuracy: 0.5098\n",
      "Best model saved at epoch 2 with accuracy 0.5098\n",
      "Epoch 3, Train Loss: 0.0409\n",
      "Validation Loss: 0.0445, Accuracy: 0.4977\n",
      "Epoch 4, Train Loss: 0.0352\n",
      "Validation Loss: 0.0413, Accuracy: 0.5310\n",
      "Best model saved at epoch 4 with accuracy 0.5310\n",
      "Epoch 5, Train Loss: 0.0297\n",
      "Validation Loss: 0.0416, Accuracy: 0.5212\n",
      "Epoch 6, Train Loss: 0.0253\n",
      "Validation Loss: 0.0419, Accuracy: 0.5373\n",
      "Best model saved at epoch 6 with accuracy 0.5373\n",
      "Epoch 7, Train Loss: 0.0213\n",
      "Validation Loss: 0.0448, Accuracy: 0.5293\n",
      "Epoch 8, Train Loss: 0.0174\n",
      "Validation Loss: 0.0468, Accuracy: 0.5052\n",
      "Epoch 9, Train Loss: 0.0140\n",
      "Validation Loss: 0.0472, Accuracy: 0.5350\n",
      "Epoch 10, Train Loss: 0.0113\n",
      "Validation Loss: 0.0518, Accuracy: 0.5316\n",
      "Epoch 11, Train Loss: 0.0090\n",
      "Validation Loss: 0.0527, Accuracy: 0.5195\n",
      "Epoch 12, Train Loss: 0.0071\n",
      "Validation Loss: 0.0547, Accuracy: 0.5339\n",
      "Epoch 13, Train Loss: 0.0056\n",
      "Validation Loss: 0.0548, Accuracy: 0.5333\n",
      "Epoch 14, Train Loss: 0.0044\n",
      "Validation Loss: 0.0574, Accuracy: 0.5258\n",
      "Epoch 15, Train Loss: 0.0036\n",
      "Validation Loss: 0.0577, Accuracy: 0.5276\n",
      "Epoch 16, Train Loss: 0.0031\n",
      "Validation Loss: 0.0607, Accuracy: 0.5287\n",
      "Epoch 17, Train Loss: 0.0027\n",
      "Validation Loss: 0.0614, Accuracy: 0.5258\n",
      "Epoch 18, Train Loss: 0.0023\n",
      "Validation Loss: 0.0640, Accuracy: 0.5264\n",
      "Epoch 19, Train Loss: 0.0020\n",
      "Validation Loss: 0.0636, Accuracy: 0.5247\n",
      "Epoch 20, Train Loss: 0.0018\n",
      "Validation Loss: 0.0639, Accuracy: 0.5235\n"
     ]
    },
    {
     "data": {
      "image/png": "[encoded data removed]",
      "text/plain": [
       "<Figure size 1200x500 with 2 Axes>"
      ]
     },
     "metadata": {},
     "output_type": "display_data"
    }
   ],
   "source": [
    "preds, true_labels = train_model(model, train_loader, val_loader, optimizer, lr_scheduler, criterion)"
   ]
  },
  {
   "cell_type": "markdown",
   "id": "8c3f6f9e",
   "metadata": {
    "papermill": {
     "duration": 0.018679,
     "end_time": "2025-01-24T18:20:41.883757",
     "exception": false,
     "start_time": "2025-01-24T18:20:41.865078",
     "status": "completed"
    },
    "tags": []
   },
   "source": [
    "Проведем анализ ошибок, выведем хужшие классы и общую статистику по всем в виде графика F1-score, также приведем пример данных где модель ошибается"
   ]
  },
  {
   "cell_type": "code",
   "execution_count": 35,
   "id": "f9f2c63e",
   "metadata": {
    "execution": {
     "iopub.execute_input": "2025-01-24T18:20:41.923280Z",
     "iopub.status.busy": "2025-01-24T18:20:41.922986Z",
     "iopub.status.idle": "2025-01-24T18:20:42.275663Z",
     "shell.execute_reply": "2025-01-24T18:20:42.274545Z"
    },
    "papermill": {
     "duration": 0.374453,
     "end_time": "2025-01-24T18:20:42.277209",
     "exception": false,
     "start_time": "2025-01-24T18:20:41.902756",
     "status": "completed"
    },
    "tags": []
   },
   "outputs": [
    {
     "name": "stderr",
     "output_type": "stream",
     "text": [
      "/usr/local/lib/python3.10/dist-packages/sklearn/metrics/_classification.py:1344: UndefinedMetricWarning: Precision and F-score are ill-defined and being set to 0.0 in labels with no predicted samples. Use `zero_division` parameter to control this behavior.\n",
      "  _warn_prf(average, modifier, msg_start, len(result))\n"
     ]
    },
    {
     "data": {
      "image/png": "[encoded data removed]",
      "text/plain": [
       "<Figure size 1000x600 with 1 Axes>"
      ]
     },
     "metadata": {},
     "output_type": "display_data"
    },
    {
     "name": "stdout",
     "output_type": "stream",
     "text": [
      "Худшие классы:\n",
      "Класс trend_id_res9: F1 Score = 0.00, Precision = 0.00, Recall = 0.00\n",
      "Класс trend_id_res25: F1 Score = 0.00, Precision = 0.00, Recall = 0.00\n",
      "Класс trend_id_res24: F1 Score = 0.00, Precision = 0.00, Recall = 0.00\n",
      "Класс trend_id_res17: F1 Score = 0.00, Precision = 0.00, Recall = 0.00\n",
      "Класс trend_id_res41: F1 Score = 0.00, Precision = 0.00, Recall = 0.00\n"
     ]
    }
   ],
   "source": [
    "# Анализ ошибок\n",
    "class_metrics = precision_recall_fscore_support(true_labels, preds, average=None)\n",
    "precision, recall, f1_score, _ = class_metrics\n",
    "\n",
    "# Построение графика F1-score для каждого класса\n",
    "plt.figure(figsize=(10, 6))\n",
    "plt.bar(range(len(target_columns)), f1_score, color='skyblue')\n",
    "plt.xlabel('Class Index')\n",
    "plt.ylabel('F1 Score')\n",
    "plt.title('F1 Score by Class')\n",
    "plt.show()\n",
    "\n",
    "# Анализ самых сложных классов\n",
    "worst_classes = np.argsort(f1_score)[:5]\n",
    "print(\"Худшие классы:\")\n",
    "for idx in worst_classes:\n",
    "    print(f\"Класс {target_columns[idx]}: F1 Score = {f1_score[idx]:.2f}, Precision = {precision[idx]:.2f}, Recall = {recall[idx]:.2f}\")\n"
   ]
  },
  {
   "cell_type": "code",
   "execution_count": 36,
   "id": "ae852ea7",
   "metadata": {
    "execution": {
     "iopub.execute_input": "2025-01-24T18:20:42.322047Z",
     "iopub.status.busy": "2025-01-24T18:20:42.321752Z",
     "iopub.status.idle": "2025-01-24T18:20:42.363781Z",
     "shell.execute_reply": "2025-01-24T18:20:42.362569Z"
    },
    "papermill": {
     "duration": 0.065008,
     "end_time": "2025-01-24T18:20:42.365299",
     "exception": false,
     "start_time": "2025-01-24T18:20:42.300291",
     "status": "completed"
    },
    "tags": []
   },
   "outputs": [
    {
     "name": "stdout",
     "output_type": "stream",
     "text": [
      "Найдено 5 ошибок из 1742 примеров.\n",
      "Индекс: 2, Неправильные классы: [19, 21]\n",
      "Индекс: 5, Неправильные классы: [27]\n",
      "Индекс: 6, Неправильные классы: [30]\n",
      "Индекс: 7, Неправильные классы: [0, 35]\n",
      "Индекс: 10, Неправильные классы: [14]\n"
     ]
    }
   ],
   "source": [
    "def show_model_errors_from_loader(preds, true_labels, dataset, threshold=0.5):\n",
    "\n",
    "    binarized_preds = (torch.sigmoid(torch.tensor(preds)) > threshold).int()\n",
    "\n",
    "    # Сохраняем индексы и классы ошибок\n",
    "    error_details = []\n",
    "    for i in range(len(true_labels)):\n",
    "        true = torch.tensor(true_labels[i])\n",
    "        pred = binarized_preds[i]\n",
    "        if not torch.equal(pred, true):\n",
    "            # Находим индексы классов, которые были прдсказаны неправильно\n",
    "            incorrect_classes = (pred != true).nonzero(as_tuple=True)[0].tolist()\n",
    "            error_details.append({\n",
    "                \"index\": i,  # Индекс в датасете\n",
    "                \"incorrect_classes\": incorrect_classes,  # Неправильные классы\n",
    "            })\n",
    "            if len(error_details) >= 5:  # Ограничим вывод количества ошибок - 5\n",
    "                break\n",
    "\n",
    "\n",
    "    print(f\"Найдено {len(error_details)} ошибок из {len(true_labels)} примеров.\")\n",
    "    for error in error_details:\n",
    "        print(f\"Индекс: {error['index']}, Неправильные классы: {error['incorrect_classes']}\")\n",
    "    \n",
    "show_model_errors_from_loader(preds, true_labels, val_dataset)"
   ]
  },
  {
   "cell_type": "code",
   "execution_count": 37,
   "id": "f138806e",
   "metadata": {
    "execution": {
     "iopub.execute_input": "2025-01-24T18:20:42.410684Z",
     "iopub.status.busy": "2025-01-24T18:20:42.410329Z",
     "iopub.status.idle": "2025-01-24T18:20:42.418285Z",
     "shell.execute_reply": "2025-01-24T18:20:42.417195Z"
    },
    "papermill": {
     "duration": 0.031773,
     "end_time": "2025-01-24T18:20:42.420039",
     "exception": false,
     "start_time": "2025-01-24T18:20:42.388266",
     "status": "completed"
    },
    "tags": []
   },
   "outputs": [
    {
     "data": {
      "text/plain": [
       "text                                                           Доставка постоянно задерживается\n",
       "trend_id_res0                                                                                 0\n",
       "trend_id_res1                                                                                 0\n",
       "trend_id_res2                                                                                 0\n",
       "trend_id_res3                                                                                 1\n",
       "trend_id_res4                                                                                 0\n",
       "trend_id_res5                                                                                 0\n",
       "trend_id_res6                                                                                 0\n",
       "trend_id_res7                                                                                 0\n",
       "trend_id_res8                                                                                 0\n",
       "trend_id_res9                                                                                 0\n",
       "trend_id_res10                                                                                0\n",
       "trend_id_res11                                                                                0\n",
       "trend_id_res12                                                                                0\n",
       "trend_id_res13                                                                                0\n",
       "trend_id_res14                                                                                0\n",
       "trend_id_res15                                                                                0\n",
       "trend_id_res16                                                                                0\n",
       "trend_id_res17                                                                                0\n",
       "trend_id_res18                                                                                0\n",
       "trend_id_res19                                                                                0\n",
       "trend_id_res20                                                                                0\n",
       "trend_id_res21                                                                                0\n",
       "trend_id_res22                                                                                0\n",
       "trend_id_res23                                                                                0\n",
       "trend_id_res24                                                                                0\n",
       "trend_id_res25                                                                                0\n",
       "trend_id_res26                                                                                0\n",
       "trend_id_res27                                                                                0\n",
       "trend_id_res28                                                                                0\n",
       "trend_id_res29                                                                                0\n",
       "trend_id_res30                                                                                0\n",
       "trend_id_res31                                                                                0\n",
       "trend_id_res32                                                                                0\n",
       "trend_id_res33                                                                                0\n",
       "trend_id_res34                                                                                0\n",
       "trend_id_res35                                                                                0\n",
       "trend_id_res36                                                                                0\n",
       "trend_id_res37                                                                                0\n",
       "trend_id_res38                                                                                0\n",
       "trend_id_res39                                                                                0\n",
       "trend_id_res40                                                                                0\n",
       "trend_id_res41                                                                                0\n",
       "trend_id_res42                                                                                0\n",
       "trend_id_res43                                                                                0\n",
       "trend_id_res44                                                                                0\n",
       "trend_id_res45                                                                                0\n",
       "trend_id_res46                                                                                0\n",
       "trend_id_res47                                                                                0\n",
       "trend_id_res48                                                                                0\n",
       "trend_id_res49                                                                                0\n",
       "text_length                                                                                  32\n",
       "emojis                                                                                         \n",
       "processed_text    delivery promotions price assortment support доставка постоянно задерживаться\n",
       "Name: 13845, dtype: object"
      ]
     },
     "execution_count": 37,
     "metadata": {},
     "output_type": "execute_result"
    }
   ],
   "source": [
    "train_data.iloc[2]"
   ]
  },
  {
   "cell_type": "markdown",
   "id": "0e289449",
   "metadata": {
    "papermill": {
     "duration": 0.021361,
     "end_time": "2025-01-24T18:20:42.464586",
     "exception": false,
     "start_time": "2025-01-24T18:20:42.443225",
     "status": "completed"
    },
    "tags": []
   },
   "source": [
    "## Предсказание на тестовых данных"
   ]
  },
  {
   "cell_type": "code",
   "execution_count": 38,
   "id": "c83ba085",
   "metadata": {
    "execution": {
     "iopub.execute_input": "2025-01-24T18:20:42.507659Z",
     "iopub.status.busy": "2025-01-24T18:20:42.507341Z",
     "iopub.status.idle": "2025-01-24T18:23:24.426415Z",
     "shell.execute_reply": "2025-01-24T18:23:24.425617Z"
    },
    "papermill": {
     "duration": 161.942418,
     "end_time": "2025-01-24T18:23:24.428195",
     "exception": false,
     "start_time": "2025-01-24T18:20:42.485777",
     "status": "completed"
    },
    "tags": []
   },
   "outputs": [
    {
     "name": "stderr",
     "output_type": "stream",
     "text": [
      "/usr/local/lib/python3.10/dist-packages/transformers/tokenization_utils_base.py:1601: FutureWarning: `clean_up_tokenization_spaces` was not set. It will be set to `True` by default. This behavior will be depracted in transformers v4.45, and will be then set to `False` by default. For more details check this issue: https://github.com/huggingface/transformers/issues/31884\n",
      "  warnings.warn(\n",
      "<ipython-input-38-7e0f5d7bfba9>:4: FutureWarning: You are using `torch.load` with `weights_only=False` (the current default value), which uses the default pickle module implicitly. It is possible to construct malicious pickle data which will execute arbitrary code during unpickling (See https://github.com/pytorch/pytorch/blob/main/SECURITY.md#untrusted-models for more details). In a future release, the default value for `weights_only` will be flipped to `True`. This limits the functions that could be executed during unpickling. Arbitrary objects will no longer be allowed to be loaded via this mode unless they are explicitly allowlisted by the user via `torch.serialization.add_safe_globals`. We recommend you start setting `weights_only=True` for any use case where you don't have full control of the loaded file. Please open an issue on GitHub for any issues related to this experimental feature.\n",
      "  model.load_state_dict(torch.load(model_path))\n"
     ]
    }
   ],
   "source": [
    "def predict_from_cleaned_dataframe_with_index(\n",
    "    model_path, test_data, tokenizer, max_length=128, threshold=0.5, device=\"cuda\"):\n",
    "\n",
    "    model.load_state_dict(torch.load(model_path))\n",
    "    model.eval()\n",
    "    model.to(device)\n",
    "    \n",
    "    # Список для хранения предсказаний\n",
    "    all_predictions = []\n",
    "    \n",
    "    with torch.no_grad():\n",
    "        for text in test_data[\"processed_text\"]:\n",
    "            # Токенизация текста\n",
    "            tokens = tokenizer(\n",
    "                text,\n",
    "                padding=\"max_length\",\n",
    "                truncation=True,\n",
    "                max_length=max_length,\n",
    "                return_tensors=\"pt\"\n",
    "            )\n",
    "            input_ids = tokens[\"input_ids\"].to(device)\n",
    "            attention_mask = tokens[\"attention_mask\"].to(device)\n",
    "            \n",
    "            # Получение предсказаний\n",
    "            logits = model(input_ids=input_ids, attention_mask=attention_mask)  # Возвращаем тензор логитов\n",
    "            probabilities = torch.sigmoid(logits).cpu()\n",
    "            binarized_preds = (probabilities > threshold).int()\n",
    "            \n",
    "            all_predictions.append(binarized_preds.squeeze(0).tolist())\n",
    "    \n",
    "    # DataFrame с результатами\n",
    "    columns = [f\"trend_id_res{i}\" for i in range(len(all_predictions[0]))]\n",
    "    predictions_df = pd.DataFrame(all_predictions, columns=columns, index=test_data.index)\n",
    "    \n",
    "    return predictions_df\n",
    "\n",
    "\n",
    "\n",
    "model_path = \"best_model.pth\"  # Укажите путь к лучшей модели\n",
    "tokenizer = AutoTokenizer.from_pretrained(\"DeepPavlov/rubert-base-cased\")\n",
    "\n",
    "predictions_df = predict_from_cleaned_dataframe_with_index(\n",
    "    model_path=model_path,\n",
    "    test_data=test_data,\n",
    "    tokenizer=tokenizer\n",
    ")\n",
    "\n",
    "# Сохранение предсказаний в CSV\n",
    "predictions_df.to_csv(\"test_predictions.csv\")"
   ]
  },
  {
   "cell_type": "markdown",
   "id": "b9778b37",
   "metadata": {
    "papermill": {
     "duration": 0.01992,
     "end_time": "2025-01-24T18:23:24.470222",
     "exception": false,
     "start_time": "2025-01-24T18:23:24.450302",
     "status": "completed"
    },
    "tags": []
   },
   "source": [
    "## Заключение"
   ]
  },
  {
   "cell_type": "markdown",
   "id": "d107bb88",
   "metadata": {
    "papermill": {
     "duration": 0.020018,
     "end_time": "2025-01-24T18:23:24.509750",
     "exception": false,
     "start_time": "2025-01-24T18:23:24.489732",
     "status": "completed"
    },
    "tags": []
   },
   "source": [
    "В ходе работы над данным проектом решалась задача создания NLP модели для предсказания тематик, которые затрагиваются в пользовательском ответе на опросы.\n",
    "\n",
    "Сначала изучалась теория необходимая для решения задач NLP, как решаются такие задачи, примеры архитектур и самых популярных моделей для этих задач. Вместе с этим проводился первичный анализ данных: данные были загружены и просмотрены. Была произведена проверка на пропуски в данных и обнаружено, что почти половина данных не имеет целевого признака. В связи с этим были выдвинуты 3 варианта действий: \n",
    "1. Оставляем все данные как есть и учим модель предсказывать остутсвие калссов.\n",
    "2. Удаляем все данные без таргета, и акцентируем внимание модели на предсказание классов.\n",
    "3. Оставляем часть таких данных (около 150 - среднее количество данных на класс), а остальное удаляем.\n",
    "\n",
    "В теории лучшим вариантом должен быть 3 но на практике лучшую метрику дает 1, так как почти в валидационном датасете остается достаточное количество данных с нулевыми таргетами, а наша модель научилась неплохо их предсказывать. Если в тестовом датасете, также есть такие данные, то модель проявит себя неплохо.\n",
    "\n",
    "Далее проводилась преобработка данных: блыа проведена очистка, токенизация и лемматизация, также был выделен дополнительный признак - эмодзи.\n",
    "Следующим шагом стал исследовательский анализ, в котором были проанализиррованы самые популярные эмодзи, была приведена статистика по меткам и и удалены ненужные столбцы из датафрейма.\n",
    "\n",
    "В ходе подбора модели и её гиперпараметров были опробованы различные предобученые модели из них выделялась лучшим образом rubert от команды DeepPavlov. На ней было решено остановиться. На этом этапе было опробовано много различных способов как улучшить нашу модель, такие как добавление весов или выбор другого лосса. В конечном счете лучшей моделью стала предобученая DeepPavlov/rubert-base-cased с линейным классификатором, оптисизатором Adamw, lr=9e-5 и функцией потерь BCEWithLogitsLoss. На валидационной выборке модель показывает accuracy = 0.54. Далее проводился анализ ошибок: самыми сложными для предсказания классами стали 5, 6, 7, 9, 10. Также был приведен пример, в котором модель допустила ошибки."
   ]
  },
  {
   "cell_type": "code",
   "execution_count": null,
   "id": "178b130a",
   "metadata": {
    "papermill": {
     "duration": 0.018589,
     "end_time": "2025-01-24T18:23:24.548203",
     "exception": false,
     "start_time": "2025-01-24T18:23:24.529614",
     "status": "completed"
    },
    "tags": []
   },
   "outputs": [],
   "source": []
  }
 ],
 "metadata": {
  "kaggle": {
   "accelerator": "nvidiaTeslaT4",
   "dataSources": [
    {
     "datasetId": 6423312,
     "sourceId": 10370076,
     "sourceType": "datasetVersion"
    },
    {
     "datasetId": 6495075,
     "sourceId": 10490120,
     "sourceType": "datasetVersion"
    }
   ],
   "dockerImageVersionId": 30822,
   "isGpuEnabled": true,
   "isInternetEnabled": true,
   "language": "python",
   "sourceType": "notebook"
  },
  "kernelspec": {
   "display_name": "Python 3",
   "language": "python",
   "name": "python3"
  },
  "language_info": {
   "codemirror_mode": {
    "name": "ipython",
    "version": 3
   },
   "file_extension": ".py",
   "mimetype": "text/x-python",
   "name": "python",
   "nbconvert_exporter": "python",
   "pygments_lexer": "ipython3",
   "version": "3.10.12"
  },
  "papermill": {
   "default_parameters": {},
   "duration": 4043.597991,
   "end_time": "2025-01-24T18:23:28.092632",
   "environment_variables": {},
   "exception": null,
   "input_path": "__notebook__.ipynb",
   "output_path": "__notebook__.ipynb",
   "parameters": {},
   "start_time": "2025-01-24T17:16:04.494641",
   "version": "2.6.0"
  },
  "widgets": {
   "application/vnd.jupyter.widget-state+json": {
    "state": {
     "049f88b7238b4e268e445ef072733abf": {
      "model_module": "@jupyter-widgets/controls",
      "model_module_version": "2.0.0",
      "model_name": "HTMLStyleModel",
      "state": {
       "_model_module": "@jupyter-widgets/controls",
       "_model_module_version": "2.0.0",
       "_model_name": "HTMLStyleModel",
       "_view_count": null,
       "_view_module": "@jupyter-widgets/base",
       "_view_module_version": "2.0.0",
       "_view_name": "StyleView",
       "background": null,
       "description_width": "",
       "font_size": null,
       "text_color": null
      }
     },
     "05c8f573f44a420a99f94e0c3726b86e": {
      "model_module": "@jupyter-widgets/base",
      "model_module_version": "2.0.0",
      "model_name": "LayoutModel",
      "state": {
       "_model_module": "@jupyter-widgets/base",
       "_model_module_version": "2.0.0",
       "_model_name": "LayoutModel",
       "_view_count": null,
       "_view_module": "@jupyter-widgets/base",
       "_view_module_version": "2.0.0",
       "_view_name": "LayoutView",
       "align_content": null,
       "align_items": null,
       "align_self": null,
       "border_bottom": null,
       "border_left": null,
       "border_right": null,
       "border_top": null,
       "bottom": null,
       "display": null,
       "flex": null,
       "flex_flow": null,
       "grid_area": null,
       "grid_auto_columns": null,
       "grid_auto_flow": null,
       "grid_auto_rows": null,
       "grid_column": null,
       "grid_gap": null,
       "grid_row": null,
       "grid_template_areas": null,
       "grid_template_columns": null,
       "grid_template_rows": null,
       "height": null,
       "justify_content": null,
       "justify_items": null,
       "left": null,
       "margin": null,
       "max_height": null,
       "max_width": null,
       "min_height": null,
       "min_width": null,
       "object_fit": null,
       "object_position": null,
       "order": null,
       "overflow": null,
       "padding": null,
       "right": null,
       "top": null,
       "visibility": null,
       "width": null
      }
     },
     "06f414c1d09949caac08e945179a4fdb": {
      "model_module": "@jupyter-widgets/controls",
      "model_module_version": "2.0.0",
      "model_name": "HTMLStyleModel",
      "state": {
       "_model_module": "@jupyter-widgets/controls",
       "_model_module_version": "2.0.0",
       "_model_name": "HTMLStyleModel",
       "_view_count": null,
       "_view_module": "@jupyter-widgets/base",
       "_view_module_version": "2.0.0",
       "_view_name": "StyleView",
       "background": null,
       "description_width": "",
       "font_size": null,
       "text_color": null
      }
     },
     "177a56e594374f0d8bf581c440a4a052": {
      "model_module": "@jupyter-widgets/base",
      "model_module_version": "2.0.0",
      "model_name": "LayoutModel",
      "state": {
       "_model_module": "@jupyter-widgets/base",
       "_model_module_version": "2.0.0",
       "_model_name": "LayoutModel",
       "_view_count": null,
       "_view_module": "@jupyter-widgets/base",
       "_view_module_version": "2.0.0",
       "_view_name": "LayoutView",
       "align_content": null,
       "align_items": null,
       "align_self": null,
       "border_bottom": null,
       "border_left": null,
       "border_right": null,
       "border_top": null,
       "bottom": null,
       "display": null,
       "flex": null,
       "flex_flow": null,
       "grid_area": null,
       "grid_auto_columns": null,
       "grid_auto_flow": null,
       "grid_auto_rows": null,
       "grid_column": null,
       "grid_gap": null,
       "grid_row": null,
       "grid_template_areas": null,
       "grid_template_columns": null,
       "grid_template_rows": null,
       "height": null,
       "justify_content": null,
       "justify_items": null,
       "left": null,
       "margin": null,
       "max_height": null,
       "max_width": null,
       "min_height": null,
       "min_width": null,
       "object_fit": null,
       "object_position": null,
       "order": null,
       "overflow": null,
       "padding": null,
       "right": null,
       "top": null,
       "visibility": null,
       "width": null
      }
     },
     "1906ba37c8134d1887b0bfc173048dcf": {
      "model_module": "@jupyter-widgets/base",
      "model_module_version": "2.0.0",
      "model_name": "LayoutModel",
      "state": {
       "_model_module": "@jupyter-widgets/base",
       "_model_module_version": "2.0.0",
       "_model_name": "LayoutModel",
       "_view_count": null,
       "_view_module": "@jupyter-widgets/base",
       "_view_module_version": "2.0.0",
       "_view_name": "LayoutView",
       "align_content": null,
       "align_items": null,
       "align_self": null,
       "border_bottom": null,
       "border_left": null,
       "border_right": null,
       "border_top": null,
       "bottom": null,
       "display": null,
       "flex": null,
       "flex_flow": null,
       "grid_area": null,
       "grid_auto_columns": null,
       "grid_auto_flow": null,
       "grid_auto_rows": null,
       "grid_column": null,
       "grid_gap": null,
       "grid_row": null,
       "grid_template_areas": null,
       "grid_template_columns": null,
       "grid_template_rows": null,
       "height": null,
       "justify_content": null,
       "justify_items": null,
       "left": null,
       "margin": null,
       "max_height": null,
       "max_width": null,
       "min_height": null,
       "min_width": null,
       "object_fit": null,
       "object_position": null,
       "order": null,
       "overflow": null,
       "padding": null,
       "right": null,
       "top": null,
       "visibility": null,
       "width": null
      }
     },
     "204f711582544387bc6159d5284a9665": {
      "model_module": "@jupyter-widgets/controls",
      "model_module_version": "2.0.0",
      "model_name": "FloatProgressModel",
      "state": {
       "_dom_classes": [],
       "_model_module": "@jupyter-widgets/controls",
       "_model_module_version": "2.0.0",
       "_model_name": "FloatProgressModel",
       "_view_count": null,
       "_view_module": "@jupyter-widgets/controls",
       "_view_module_version": "2.0.0",
       "_view_name": "ProgressView",
       "bar_style": "success",
       "description": "",
       "description_allow_html": false,
       "layout": "IPY_MODEL_46238df4137f493dbf8070c82c084722",
       "max": 714355318,
       "min": 0,
       "orientation": "horizontal",
       "style": "IPY_MODEL_bf0b64728db74a56817ad72cd621a5c8",
       "tabbable": null,
       "tooltip": null,
       "value": 714355318
      }
     },
     "23231696d7b145cb9ddc6d4460154efa": {
      "model_module": "@jupyter-widgets/controls",
      "model_module_version": "2.0.0",
      "model_name": "HTMLModel",
      "state": {
       "_dom_classes": [],
       "_model_module": "@jupyter-widgets/controls",
       "_model_module_version": "2.0.0",
       "_model_name": "HTMLModel",
       "_view_count": null,
       "_view_module": "@jupyter-widgets/controls",
       "_view_module_version": "2.0.0",
       "_view_name": "HTMLView",
       "description": "",
       "description_allow_html": false,
       "layout": "IPY_MODEL_6a5bf79ef8c6492f8fe80ddf274d0d3a",
       "placeholder": "​",
       "style": "IPY_MODEL_40c99d3ca4284df884321ccfc21bd177",
       "tabbable": null,
       "tooltip": null,
       "value": "config.json: 100%"
      }
     },
     "23975d73538744099eac6d055e843a89": {
      "model_module": "@jupyter-widgets/base",
      "model_module_version": "2.0.0",
      "model_name": "LayoutModel",
      "state": {
       "_model_module": "@jupyter-widgets/base",
       "_model_module_version": "2.0.0",
       "_model_name": "LayoutModel",
       "_view_count": null,
       "_view_module": "@jupyter-widgets/base",
       "_view_module_version": "2.0.0",
       "_view_name": "LayoutView",
       "align_content": null,
       "align_items": null,
       "align_self": null,
       "border_bottom": null,
       "border_left": null,
       "border_right": null,
       "border_top": null,
       "bottom": null,
       "display": null,
       "flex": null,
       "flex_flow": null,
       "grid_area": null,
       "grid_auto_columns": null,
       "grid_auto_flow": null,
       "grid_auto_rows": null,
       "grid_column": null,
       "grid_gap": null,
       "grid_row": null,
       "grid_template_areas": null,
       "grid_template_columns": null,
       "grid_template_rows": null,
       "height": null,
       "justify_content": null,
       "justify_items": null,
       "left": null,
       "margin": null,
       "max_height": null,
       "max_width": null,
       "min_height": null,
       "min_width": null,
       "object_fit": null,
       "object_position": null,
       "order": null,
       "overflow": null,
       "padding": null,
       "right": null,
       "top": null,
       "visibility": null,
       "width": null
      }
     },
     "244d703045534a42bcdf4dd9402f1d2d": {
      "model_module": "@jupyter-widgets/base",
      "model_module_version": "2.0.0",
      "model_name": "LayoutModel",
      "state": {
       "_model_module": "@jupyter-widgets/base",
       "_model_module_version": "2.0.0",
       "_model_name": "LayoutModel",
       "_view_count": null,
       "_view_module": "@jupyter-widgets/base",
       "_view_module_version": "2.0.0",
       "_view_name": "LayoutView",
       "align_content": null,
       "align_items": null,
       "align_self": null,
       "border_bottom": null,
       "border_left": null,
       "border_right": null,
       "border_top": null,
       "bottom": null,
       "display": null,
       "flex": null,
       "flex_flow": null,
       "grid_area": null,
       "grid_auto_columns": null,
       "grid_auto_flow": null,
       "grid_auto_rows": null,
       "grid_column": null,
       "grid_gap": null,
       "grid_row": null,
       "grid_template_areas": null,
       "grid_template_columns": null,
       "grid_template_rows": null,
       "height": null,
       "justify_content": null,
       "justify_items": null,
       "left": null,
       "margin": null,
       "max_height": null,
       "max_width": null,
       "min_height": null,
       "min_width": null,
       "object_fit": null,
       "object_position": null,
       "order": null,
       "overflow": null,
       "padding": null,
       "right": null,
       "top": null,
       "visibility": null,
       "width": null
      }
     },
     "2e2701a8f0aa4593a4be907f0432c808": {
      "model_module": "@jupyter-widgets/controls",
      "model_module_version": "2.0.0",
      "model_name": "ProgressStyleModel",
      "state": {
       "_model_module": "@jupyter-widgets/controls",
       "_model_module_version": "2.0.0",
       "_model_name": "ProgressStyleModel",
       "_view_count": null,
       "_view_module": "@jupyter-widgets/base",
       "_view_module_version": "2.0.0",
       "_view_name": "StyleView",
       "bar_color": null,
       "description_width": ""
      }
     },
     "312892ad7e76489ba449447e407f652d": {
      "model_module": "@jupyter-widgets/controls",
      "model_module_version": "2.0.0",
      "model_name": "ProgressStyleModel",
      "state": {
       "_model_module": "@jupyter-widgets/controls",
       "_model_module_version": "2.0.0",
       "_model_name": "ProgressStyleModel",
       "_view_count": null,
       "_view_module": "@jupyter-widgets/base",
       "_view_module_version": "2.0.0",
       "_view_name": "StyleView",
       "bar_color": null,
       "description_width": ""
      }
     },
     "317170f8796e4c0a8577c6eee9f59436": {
      "model_module": "@jupyter-widgets/base",
      "model_module_version": "2.0.0",
      "model_name": "LayoutModel",
      "state": {
       "_model_module": "@jupyter-widgets/base",
       "_model_module_version": "2.0.0",
       "_model_name": "LayoutModel",
       "_view_count": null,
       "_view_module": "@jupyter-widgets/base",
       "_view_module_version": "2.0.0",
       "_view_name": "LayoutView",
       "align_content": null,
       "align_items": null,
       "align_self": null,
       "border_bottom": null,
       "border_left": null,
       "border_right": null,
       "border_top": null,
       "bottom": null,
       "display": null,
       "flex": null,
       "flex_flow": null,
       "grid_area": null,
       "grid_auto_columns": null,
       "grid_auto_flow": null,
       "grid_auto_rows": null,
       "grid_column": null,
       "grid_gap": null,
       "grid_row": null,
       "grid_template_areas": null,
       "grid_template_columns": null,
       "grid_template_rows": null,
       "height": null,
       "justify_content": null,
       "justify_items": null,
       "left": null,
       "margin": null,
       "max_height": null,
       "max_width": null,
       "min_height": null,
       "min_width": null,
       "object_fit": null,
       "object_position": null,
       "order": null,
       "overflow": null,
       "padding": null,
       "right": null,
       "top": null,
       "visibility": null,
       "width": null
      }
     },
     "3a9ecc9df1464313a621fda40a93d018": {
      "model_module": "@jupyter-widgets/controls",
      "model_module_version": "2.0.0",
      "model_name": "HBoxModel",
      "state": {
       "_dom_classes": [],
       "_model_module": "@jupyter-widgets/controls",
       "_model_module_version": "2.0.0",
       "_model_name": "HBoxModel",
       "_view_count": null,
       "_view_module": "@jupyter-widgets/controls",
       "_view_module_version": "2.0.0",
       "_view_name": "HBoxView",
       "box_style": "",
       "children": [
        "IPY_MODEL_41f8a1a34285447cb0fc3e71b075b802",
        "IPY_MODEL_86c921fbf19f4c528f8d6916d47075dc",
        "IPY_MODEL_cf726692ed0d404e9ffe3e7dc532007b"
       ],
       "layout": "IPY_MODEL_b17527d845504fc09eb9f4f61c366eeb",
       "tabbable": null,
       "tooltip": null
      }
     },
     "40c99d3ca4284df884321ccfc21bd177": {
      "model_module": "@jupyter-widgets/controls",
      "model_module_version": "2.0.0",
      "model_name": "HTMLStyleModel",
      "state": {
       "_model_module": "@jupyter-widgets/controls",
       "_model_module_version": "2.0.0",
       "_model_name": "HTMLStyleModel",
       "_view_count": null,
       "_view_module": "@jupyter-widgets/base",
       "_view_module_version": "2.0.0",
       "_view_name": "StyleView",
       "background": null,
       "description_width": "",
       "font_size": null,
       "text_color": null
      }
     },
     "41f8a1a34285447cb0fc3e71b075b802": {
      "model_module": "@jupyter-widgets/controls",
      "model_module_version": "2.0.0",
      "model_name": "HTMLModel",
      "state": {
       "_dom_classes": [],
       "_model_module": "@jupyter-widgets/controls",
       "_model_module_version": "2.0.0",
       "_model_name": "HTMLModel",
       "_view_count": null,
       "_view_module": "@jupyter-widgets/controls",
       "_view_module_version": "2.0.0",
       "_view_name": "HTMLView",
       "description": "",
       "description_allow_html": false,
       "layout": "IPY_MODEL_e7a4ac2980b24f178a659630866ecbaf",
       "placeholder": "​",
       "style": "IPY_MODEL_6ae15bf9e75146619509ac77e1e2493d",
       "tabbable": null,
       "tooltip": null,
       "value": "special_tokens_map.json: 100%"
      }
     },
     "41fd648ea6184949a82217d1366c56cb": {
      "model_module": "@jupyter-widgets/base",
      "model_module_version": "2.0.0",
      "model_name": "LayoutModel",
      "state": {
       "_model_module": "@jupyter-widgets/base",
       "_model_module_version": "2.0.0",
       "_model_name": "LayoutModel",
       "_view_count": null,
       "_view_module": "@jupyter-widgets/base",
       "_view_module_version": "2.0.0",
       "_view_name": "LayoutView",
       "align_content": null,
       "align_items": null,
       "align_self": null,
       "border_bottom": null,
       "border_left": null,
       "border_right": null,
       "border_top": null,
       "bottom": null,
       "display": null,
       "flex": null,
       "flex_flow": null,
       "grid_area": null,
       "grid_auto_columns": null,
       "grid_auto_flow": null,
       "grid_auto_rows": null,
       "grid_column": null,
       "grid_gap": null,
       "grid_row": null,
       "grid_template_areas": null,
       "grid_template_columns": null,
       "grid_template_rows": null,
       "height": null,
       "justify_content": null,
       "justify_items": null,
       "left": null,
       "margin": null,
       "max_height": null,
       "max_width": null,
       "min_height": null,
       "min_width": null,
       "object_fit": null,
       "object_position": null,
       "order": null,
       "overflow": null,
       "padding": null,
       "right": null,
       "top": null,
       "visibility": null,
       "width": null
      }
     },
     "46238df4137f493dbf8070c82c084722": {
      "model_module": "@jupyter-widgets/base",
      "model_module_version": "2.0.0",
      "model_name": "LayoutModel",
      "state": {
       "_model_module": "@jupyter-widgets/base",
       "_model_module_version": "2.0.0",
       "_model_name": "LayoutModel",
       "_view_count": null,
       "_view_module": "@jupyter-widgets/base",
       "_view_module_version": "2.0.0",
       "_view_name": "LayoutView",
       "align_content": null,
       "align_items": null,
       "align_self": null,
       "border_bottom": null,
       "border_left": null,
       "border_right": null,
       "border_top": null,
       "bottom": null,
       "display": null,
       "flex": null,
       "flex_flow": null,
       "grid_area": null,
       "grid_auto_columns": null,
       "grid_auto_flow": null,
       "grid_auto_rows": null,
       "grid_column": null,
       "grid_gap": null,
       "grid_row": null,
       "grid_template_areas": null,
       "grid_template_columns": null,
       "grid_template_rows": null,
       "height": null,
       "justify_content": null,
       "justify_items": null,
       "left": null,
       "margin": null,
       "max_height": null,
       "max_width": null,
       "min_height": null,
       "min_width": null,
       "object_fit": null,
       "object_position": null,
       "order": null,
       "overflow": null,
       "padding": null,
       "right": null,
       "top": null,
       "visibility": null,
       "width": null
      }
     },
     "6a5bf79ef8c6492f8fe80ddf274d0d3a": {
      "model_module": "@jupyter-widgets/base",
      "model_module_version": "2.0.0",
      "model_name": "LayoutModel",
      "state": {
       "_model_module": "@jupyter-widgets/base",
       "_model_module_version": "2.0.0",
       "_model_name": "LayoutModel",
       "_view_count": null,
       "_view_module": "@jupyter-widgets/base",
       "_view_module_version": "2.0.0",
       "_view_name": "LayoutView",
       "align_content": null,
       "align_items": null,
       "align_self": null,
       "border_bottom": null,
       "border_left": null,
       "border_right": null,
       "border_top": null,
       "bottom": null,
       "display": null,
       "flex": null,
       "flex_flow": null,
       "grid_area": null,
       "grid_auto_columns": null,
       "grid_auto_flow": null,
       "grid_auto_rows": null,
       "grid_column": null,
       "grid_gap": null,
       "grid_row": null,
       "grid_template_areas": null,
       "grid_template_columns": null,
       "grid_template_rows": null,
       "height": null,
       "justify_content": null,
       "justify_items": null,
       "left": null,
       "margin": null,
       "max_height": null,
       "max_width": null,
       "min_height": null,
       "min_width": null,
       "object_fit": null,
       "object_position": null,
       "order": null,
       "overflow": null,
       "padding": null,
       "right": null,
       "top": null,
       "visibility": null,
       "width": null
      }
     },
     "6a6c503fccbc41b1ad1d80249988b765": {
      "model_module": "@jupyter-widgets/controls",
      "model_module_version": "2.0.0",
      "model_name": "HBoxModel",
      "state": {
       "_dom_classes": [],
       "_model_module": "@jupyter-widgets/controls",
       "_model_module_version": "2.0.0",
       "_model_name": "HBoxModel",
       "_view_count": null,
       "_view_module": "@jupyter-widgets/controls",
       "_view_module_version": "2.0.0",
       "_view_name": "HBoxView",
       "box_style": "",
       "children": [
        "IPY_MODEL_98e88f8b6a4c435496b01e6d678b4f55",
        "IPY_MODEL_b906b442b3de4f6d8de0a3c4bea7f157",
        "IPY_MODEL_a0af34cd0a4948b1a6bf17c242ee5249"
       ],
       "layout": "IPY_MODEL_f529a3f6158348e7ad7a26f12a47295b",
       "tabbable": null,
       "tooltip": null
      }
     },
     "6ae15bf9e75146619509ac77e1e2493d": {
      "model_module": "@jupyter-widgets/controls",
      "model_module_version": "2.0.0",
      "model_name": "HTMLStyleModel",
      "state": {
       "_model_module": "@jupyter-widgets/controls",
       "_model_module_version": "2.0.0",
       "_model_name": "HTMLStyleModel",
       "_view_count": null,
       "_view_module": "@jupyter-widgets/base",
       "_view_module_version": "2.0.0",
       "_view_name": "StyleView",
       "background": null,
       "description_width": "",
       "font_size": null,
       "text_color": null
      }
     },
     "70e91b16da03409bb997f1dd3bc70a95": {
      "model_module": "@jupyter-widgets/controls",
      "model_module_version": "2.0.0",
      "model_name": "HTMLModel",
      "state": {
       "_dom_classes": [],
       "_model_module": "@jupyter-widgets/controls",
       "_model_module_version": "2.0.0",
       "_model_name": "HTMLModel",
       "_view_count": null,
       "_view_module": "@jupyter-widgets/controls",
       "_view_module_version": "2.0.0",
       "_view_name": "HTMLView",
       "description": "",
       "description_allow_html": false,
       "layout": "IPY_MODEL_c5fb938ffcb141c2a8720ef235704bca",
       "placeholder": "​",
       "style": "IPY_MODEL_f01145954dc04e9bbf749bf464a7d15f",
       "tabbable": null,
       "tooltip": null,
       "value": "pytorch_model.bin: 100%"
      }
     },
     "7c47ee9ecca648d3b3798604bcc7996b": {
      "model_module": "@jupyter-widgets/controls",
      "model_module_version": "2.0.0",
      "model_name": "HTMLModel",
      "state": {
       "_dom_classes": [],
       "_model_module": "@jupyter-widgets/controls",
       "_model_module_version": "2.0.0",
       "_model_name": "HTMLModel",
       "_view_count": null,
       "_view_module": "@jupyter-widgets/controls",
       "_view_module_version": "2.0.0",
       "_view_name": "HTMLView",
       "description": "",
       "description_allow_html": false,
       "layout": "IPY_MODEL_05c8f573f44a420a99f94e0c3726b86e",
       "placeholder": "​",
       "style": "IPY_MODEL_dfad7d62a91c4ccf8439f8f01a962d23",
       "tabbable": null,
       "tooltip": null,
       "value": " 714M/714M [00:03&lt;00:00, 246MB/s]"
      }
     },
     "83ed51ce2b954c4086da70d463da53bb": {
      "model_module": "@jupyter-widgets/base",
      "model_module_version": "2.0.0",
      "model_name": "LayoutModel",
      "state": {
       "_model_module": "@jupyter-widgets/base",
       "_model_module_version": "2.0.0",
       "_model_name": "LayoutModel",
       "_view_count": null,
       "_view_module": "@jupyter-widgets/base",
       "_view_module_version": "2.0.0",
       "_view_name": "LayoutView",
       "align_content": null,
       "align_items": null,
       "align_self": null,
       "border_bottom": null,
       "border_left": null,
       "border_right": null,
       "border_top": null,
       "bottom": null,
       "display": null,
       "flex": null,
       "flex_flow": null,
       "grid_area": null,
       "grid_auto_columns": null,
       "grid_auto_flow": null,
       "grid_auto_rows": null,
       "grid_column": null,
       "grid_gap": null,
       "grid_row": null,
       "grid_template_areas": null,
       "grid_template_columns": null,
       "grid_template_rows": null,
       "height": null,
       "justify_content": null,
       "justify_items": null,
       "left": null,
       "margin": null,
       "max_height": null,
       "max_width": null,
       "min_height": null,
       "min_width": null,
       "object_fit": null,
       "object_position": null,
       "order": null,
       "overflow": null,
       "padding": null,
       "right": null,
       "top": null,
       "visibility": null,
       "width": null
      }
     },
     "86c921fbf19f4c528f8d6916d47075dc": {
      "model_module": "@jupyter-widgets/controls",
      "model_module_version": "2.0.0",
      "model_name": "FloatProgressModel",
      "state": {
       "_dom_classes": [],
       "_model_module": "@jupyter-widgets/controls",
       "_model_module_version": "2.0.0",
       "_model_name": "FloatProgressModel",
       "_view_count": null,
       "_view_module": "@jupyter-widgets/controls",
       "_view_module_version": "2.0.0",
       "_view_name": "ProgressView",
       "bar_style": "success",
       "description": "",
       "description_allow_html": false,
       "layout": "IPY_MODEL_8ac485418e7f4891a380d7a142f016e0",
       "max": 112,
       "min": 0,
       "orientation": "horizontal",
       "style": "IPY_MODEL_312892ad7e76489ba449447e407f652d",
       "tabbable": null,
       "tooltip": null,
       "value": 112
      }
     },
     "87c957ca37454166b8c47d45f0465875": {
      "model_module": "@jupyter-widgets/controls",
      "model_module_version": "2.0.0",
      "model_name": "HTMLModel",
      "state": {
       "_dom_classes": [],
       "_model_module": "@jupyter-widgets/controls",
       "_model_module_version": "2.0.0",
       "_model_name": "HTMLModel",
       "_view_count": null,
       "_view_module": "@jupyter-widgets/controls",
       "_view_module_version": "2.0.0",
       "_view_name": "HTMLView",
       "description": "",
       "description_allow_html": false,
       "layout": "IPY_MODEL_244d703045534a42bcdf4dd9402f1d2d",
       "placeholder": "​",
       "style": "IPY_MODEL_06f414c1d09949caac08e945179a4fdb",
       "tabbable": null,
       "tooltip": null,
       "value": " 642/642 [00:00&lt;00:00, 67.2kB/s]"
      }
     },
     "894bf3a27e614c2994316a56707dd561": {
      "model_module": "@jupyter-widgets/controls",
      "model_module_version": "2.0.0",
      "model_name": "FloatProgressModel",
      "state": {
       "_dom_classes": [],
       "_model_module": "@jupyter-widgets/controls",
       "_model_module_version": "2.0.0",
       "_model_name": "FloatProgressModel",
       "_view_count": null,
       "_view_module": "@jupyter-widgets/controls",
       "_view_module_version": "2.0.0",
       "_view_name": "ProgressView",
       "bar_style": "success",
       "description": "",
       "description_allow_html": false,
       "layout": "IPY_MODEL_e1a2376942104390b64e8ff842f0738f",
       "max": 1649718,
       "min": 0,
       "orientation": "horizontal",
       "style": "IPY_MODEL_d7619c82e6574af4a08d17a7cdeeeb93",
       "tabbable": null,
       "tooltip": null,
       "value": 1649718
      }
     },
     "8ac485418e7f4891a380d7a142f016e0": {
      "model_module": "@jupyter-widgets/base",
      "model_module_version": "2.0.0",
      "model_name": "LayoutModel",
      "state": {
       "_model_module": "@jupyter-widgets/base",
       "_model_module_version": "2.0.0",
       "_model_name": "LayoutModel",
       "_view_count": null,
       "_view_module": "@jupyter-widgets/base",
       "_view_module_version": "2.0.0",
       "_view_name": "LayoutView",
       "align_content": null,
       "align_items": null,
       "align_self": null,
       "border_bottom": null,
       "border_left": null,
       "border_right": null,
       "border_top": null,
       "bottom": null,
       "display": null,
       "flex": null,
       "flex_flow": null,
       "grid_area": null,
       "grid_auto_columns": null,
       "grid_auto_flow": null,
       "grid_auto_rows": null,
       "grid_column": null,
       "grid_gap": null,
       "grid_row": null,
       "grid_template_areas": null,
       "grid_template_columns": null,
       "grid_template_rows": null,
       "height": null,
       "justify_content": null,
       "justify_items": null,
       "left": null,
       "margin": null,
       "max_height": null,
       "max_width": null,
       "min_height": null,
       "min_width": null,
       "object_fit": null,
       "object_position": null,
       "order": null,
       "overflow": null,
       "padding": null,
       "right": null,
       "top": null,
       "visibility": null,
       "width": null
      }
     },
     "8c61f69100784ea7a29f13709b563718": {
      "model_module": "@jupyter-widgets/controls",
      "model_module_version": "2.0.0",
      "model_name": "HBoxModel",
      "state": {
       "_dom_classes": [],
       "_model_module": "@jupyter-widgets/controls",
       "_model_module_version": "2.0.0",
       "_model_name": "HBoxModel",
       "_view_count": null,
       "_view_module": "@jupyter-widgets/controls",
       "_view_module_version": "2.0.0",
       "_view_name": "HBoxView",
       "box_style": "",
       "children": [
        "IPY_MODEL_70e91b16da03409bb997f1dd3bc70a95",
        "IPY_MODEL_204f711582544387bc6159d5284a9665",
        "IPY_MODEL_7c47ee9ecca648d3b3798604bcc7996b"
       ],
       "layout": "IPY_MODEL_c08ad60b032b4f16b481b2167312f87a",
       "tabbable": null,
       "tooltip": null
      }
     },
     "95923f2e147240d5a39c8200ecda0b78": {
      "model_module": "@jupyter-widgets/controls",
      "model_module_version": "2.0.0",
      "model_name": "HBoxModel",
      "state": {
       "_dom_classes": [],
       "_model_module": "@jupyter-widgets/controls",
       "_model_module_version": "2.0.0",
       "_model_name": "HBoxModel",
       "_view_count": null,
       "_view_module": "@jupyter-widgets/controls",
       "_view_module_version": "2.0.0",
       "_view_name": "HBoxView",
       "box_style": "",
       "children": [
        "IPY_MODEL_f971b330be2449d8af42963954905828",
        "IPY_MODEL_894bf3a27e614c2994316a56707dd561",
        "IPY_MODEL_b79d440191aa4b5f915836b376d2a70f"
       ],
       "layout": "IPY_MODEL_95966f7bfc6147a0b969a5ab255d4989",
       "tabbable": null,
       "tooltip": null
      }
     },
     "95966f7bfc6147a0b969a5ab255d4989": {
      "model_module": "@jupyter-widgets/base",
      "model_module_version": "2.0.0",
      "model_name": "LayoutModel",
      "state": {
       "_model_module": "@jupyter-widgets/base",
       "_model_module_version": "2.0.0",
       "_model_name": "LayoutModel",
       "_view_count": null,
       "_view_module": "@jupyter-widgets/base",
       "_view_module_version": "2.0.0",
       "_view_name": "LayoutView",
       "align_content": null,
       "align_items": null,
       "align_self": null,
       "border_bottom": null,
       "border_left": null,
       "border_right": null,
       "border_top": null,
       "bottom": null,
       "display": null,
       "flex": null,
       "flex_flow": null,
       "grid_area": null,
       "grid_auto_columns": null,
       "grid_auto_flow": null,
       "grid_auto_rows": null,
       "grid_column": null,
       "grid_gap": null,
       "grid_row": null,
       "grid_template_areas": null,
       "grid_template_columns": null,
       "grid_template_rows": null,
       "height": null,
       "justify_content": null,
       "justify_items": null,
       "left": null,
       "margin": null,
       "max_height": null,
       "max_width": null,
       "min_height": null,
       "min_width": null,
       "object_fit": null,
       "object_position": null,
       "order": null,
       "overflow": null,
       "padding": null,
       "right": null,
       "top": null,
       "visibility": null,
       "width": null
      }
     },
     "960d3d76b0d84a198cd4f2c6d66dd15b": {
      "model_module": "@jupyter-widgets/base",
      "model_module_version": "2.0.0",
      "model_name": "LayoutModel",
      "state": {
       "_model_module": "@jupyter-widgets/base",
       "_model_module_version": "2.0.0",
       "_model_name": "LayoutModel",
       "_view_count": null,
       "_view_module": "@jupyter-widgets/base",
       "_view_module_version": "2.0.0",
       "_view_name": "LayoutView",
       "align_content": null,
       "align_items": null,
       "align_self": null,
       "border_bottom": null,
       "border_left": null,
       "border_right": null,
       "border_top": null,
       "bottom": null,
       "display": null,
       "flex": null,
       "flex_flow": null,
       "grid_area": null,
       "grid_auto_columns": null,
       "grid_auto_flow": null,
       "grid_auto_rows": null,
       "grid_column": null,
       "grid_gap": null,
       "grid_row": null,
       "grid_template_areas": null,
       "grid_template_columns": null,
       "grid_template_rows": null,
       "height": null,
       "justify_content": null,
       "justify_items": null,
       "left": null,
       "margin": null,
       "max_height": null,
       "max_width": null,
       "min_height": null,
       "min_width": null,
       "object_fit": null,
       "object_position": null,
       "order": null,
       "overflow": null,
       "padding": null,
       "right": null,
       "top": null,
       "visibility": null,
       "width": null
      }
     },
     "97098945cc36426383695b8451e1a234": {
      "model_module": "@jupyter-widgets/controls",
      "model_module_version": "2.0.0",
      "model_name": "FloatProgressModel",
      "state": {
       "_dom_classes": [],
       "_model_module": "@jupyter-widgets/controls",
       "_model_module_version": "2.0.0",
       "_model_name": "FloatProgressModel",
       "_view_count": null,
       "_view_module": "@jupyter-widgets/controls",
       "_view_module_version": "2.0.0",
       "_view_name": "ProgressView",
       "bar_style": "success",
       "description": "",
       "description_allow_html": false,
       "layout": "IPY_MODEL_1906ba37c8134d1887b0bfc173048dcf",
       "max": 642,
       "min": 0,
       "orientation": "horizontal",
       "style": "IPY_MODEL_b236602079ba4b289c26bdc8fdfc4fe1",
       "tabbable": null,
       "tooltip": null,
       "value": 642
      }
     },
     "98e88f8b6a4c435496b01e6d678b4f55": {
      "model_module": "@jupyter-widgets/controls",
      "model_module_version": "2.0.0",
      "model_name": "HTMLModel",
      "state": {
       "_dom_classes": [],
       "_model_module": "@jupyter-widgets/controls",
       "_model_module_version": "2.0.0",
       "_model_name": "HTMLModel",
       "_view_count": null,
       "_view_module": "@jupyter-widgets/controls",
       "_view_module_version": "2.0.0",
       "_view_name": "HTMLView",
       "description": "",
       "description_allow_html": false,
       "layout": "IPY_MODEL_960d3d76b0d84a198cd4f2c6d66dd15b",
       "placeholder": "​",
       "style": "IPY_MODEL_b6f2f72f972a4cbf932130a57e1a8dfa",
       "tabbable": null,
       "tooltip": null,
       "value": "tokenizer_config.json: 100%"
      }
     },
     "9f1fdaf1425e461bb79b2a139f598e8b": {
      "model_module": "@jupyter-widgets/controls",
      "model_module_version": "2.0.0",
      "model_name": "HTMLStyleModel",
      "state": {
       "_model_module": "@jupyter-widgets/controls",
       "_model_module_version": "2.0.0",
       "_model_name": "HTMLStyleModel",
       "_view_count": null,
       "_view_module": "@jupyter-widgets/base",
       "_view_module_version": "2.0.0",
       "_view_name": "StyleView",
       "background": null,
       "description_width": "",
       "font_size": null,
       "text_color": null
      }
     },
     "a0af34cd0a4948b1a6bf17c242ee5249": {
      "model_module": "@jupyter-widgets/controls",
      "model_module_version": "2.0.0",
      "model_name": "HTMLModel",
      "state": {
       "_dom_classes": [],
       "_model_module": "@jupyter-widgets/controls",
       "_model_module_version": "2.0.0",
       "_model_name": "HTMLModel",
       "_view_count": null,
       "_view_module": "@jupyter-widgets/controls",
       "_view_module_version": "2.0.0",
       "_view_name": "HTMLView",
       "description": "",
       "description_allow_html": false,
       "layout": "IPY_MODEL_41fd648ea6184949a82217d1366c56cb",
       "placeholder": "​",
       "style": "IPY_MODEL_d655d294f921443eb2ad6a99541d022c",
       "tabbable": null,
       "tooltip": null,
       "value": " 24.0/24.0 [00:00&lt;00:00, 2.41kB/s]"
      }
     },
     "b17527d845504fc09eb9f4f61c366eeb": {
      "model_module": "@jupyter-widgets/base",
      "model_module_version": "2.0.0",
      "model_name": "LayoutModel",
      "state": {
       "_model_module": "@jupyter-widgets/base",
       "_model_module_version": "2.0.0",
       "_model_name": "LayoutModel",
       "_view_count": null,
       "_view_module": "@jupyter-widgets/base",
       "_view_module_version": "2.0.0",
       "_view_name": "LayoutView",
       "align_content": null,
       "align_items": null,
       "align_self": null,
       "border_bottom": null,
       "border_left": null,
       "border_right": null,
       "border_top": null,
       "bottom": null,
       "display": null,
       "flex": null,
       "flex_flow": null,
       "grid_area": null,
       "grid_auto_columns": null,
       "grid_auto_flow": null,
       "grid_auto_rows": null,
       "grid_column": null,
       "grid_gap": null,
       "grid_row": null,
       "grid_template_areas": null,
       "grid_template_columns": null,
       "grid_template_rows": null,
       "height": null,
       "justify_content": null,
       "justify_items": null,
       "left": null,
       "margin": null,
       "max_height": null,
       "max_width": null,
       "min_height": null,
       "min_width": null,
       "object_fit": null,
       "object_position": null,
       "order": null,
       "overflow": null,
       "padding": null,
       "right": null,
       "top": null,
       "visibility": null,
       "width": null
      }
     },
     "b236602079ba4b289c26bdc8fdfc4fe1": {
      "model_module": "@jupyter-widgets/controls",
      "model_module_version": "2.0.0",
      "model_name": "ProgressStyleModel",
      "state": {
       "_model_module": "@jupyter-widgets/controls",
       "_model_module_version": "2.0.0",
       "_model_name": "ProgressStyleModel",
       "_view_count": null,
       "_view_module": "@jupyter-widgets/base",
       "_view_module_version": "2.0.0",
       "_view_name": "StyleView",
       "bar_color": null,
       "description_width": ""
      }
     },
     "b4966cd734f442a1b0469168264ad228": {
      "model_module": "@jupyter-widgets/controls",
      "model_module_version": "2.0.0",
      "model_name": "HTMLStyleModel",
      "state": {
       "_model_module": "@jupyter-widgets/controls",
       "_model_module_version": "2.0.0",
       "_model_name": "HTMLStyleModel",
       "_view_count": null,
       "_view_module": "@jupyter-widgets/base",
       "_view_module_version": "2.0.0",
       "_view_name": "StyleView",
       "background": null,
       "description_width": "",
       "font_size": null,
       "text_color": null
      }
     },
     "b6f2f72f972a4cbf932130a57e1a8dfa": {
      "model_module": "@jupyter-widgets/controls",
      "model_module_version": "2.0.0",
      "model_name": "HTMLStyleModel",
      "state": {
       "_model_module": "@jupyter-widgets/controls",
       "_model_module_version": "2.0.0",
       "_model_name": "HTMLStyleModel",
       "_view_count": null,
       "_view_module": "@jupyter-widgets/base",
       "_view_module_version": "2.0.0",
       "_view_name": "StyleView",
       "background": null,
       "description_width": "",
       "font_size": null,
       "text_color": null
      }
     },
     "b79d440191aa4b5f915836b376d2a70f": {
      "model_module": "@jupyter-widgets/controls",
      "model_module_version": "2.0.0",
      "model_name": "HTMLModel",
      "state": {
       "_dom_classes": [],
       "_model_module": "@jupyter-widgets/controls",
       "_model_module_version": "2.0.0",
       "_model_name": "HTMLModel",
       "_view_count": null,
       "_view_module": "@jupyter-widgets/controls",
       "_view_module_version": "2.0.0",
       "_view_name": "HTMLView",
       "description": "",
       "description_allow_html": false,
       "layout": "IPY_MODEL_83ed51ce2b954c4086da70d463da53bb",
       "placeholder": "​",
       "style": "IPY_MODEL_049f88b7238b4e268e445ef072733abf",
       "tabbable": null,
       "tooltip": null,
       "value": " 1.65M/1.65M [00:00&lt;00:00, 20.7MB/s]"
      }
     },
     "b906b442b3de4f6d8de0a3c4bea7f157": {
      "model_module": "@jupyter-widgets/controls",
      "model_module_version": "2.0.0",
      "model_name": "FloatProgressModel",
      "state": {
       "_dom_classes": [],
       "_model_module": "@jupyter-widgets/controls",
       "_model_module_version": "2.0.0",
       "_model_name": "FloatProgressModel",
       "_view_count": null,
       "_view_module": "@jupyter-widgets/controls",
       "_view_module_version": "2.0.0",
       "_view_name": "ProgressView",
       "bar_style": "success",
       "description": "",
       "description_allow_html": false,
       "layout": "IPY_MODEL_177a56e594374f0d8bf581c440a4a052",
       "max": 24,
       "min": 0,
       "orientation": "horizontal",
       "style": "IPY_MODEL_2e2701a8f0aa4593a4be907f0432c808",
       "tabbable": null,
       "tooltip": null,
       "value": 24
      }
     },
     "bede09b5ece1446e8ff4d3a9dc5b1a1a": {
      "model_module": "@jupyter-widgets/base",
      "model_module_version": "2.0.0",
      "model_name": "LayoutModel",
      "state": {
       "_model_module": "@jupyter-widgets/base",
       "_model_module_version": "2.0.0",
       "_model_name": "LayoutModel",
       "_view_count": null,
       "_view_module": "@jupyter-widgets/base",
       "_view_module_version": "2.0.0",
       "_view_name": "LayoutView",
       "align_content": null,
       "align_items": null,
       "align_self": null,
       "border_bottom": null,
       "border_left": null,
       "border_right": null,
       "border_top": null,
       "bottom": null,
       "display": null,
       "flex": null,
       "flex_flow": null,
       "grid_area": null,
       "grid_auto_columns": null,
       "grid_auto_flow": null,
       "grid_auto_rows": null,
       "grid_column": null,
       "grid_gap": null,
       "grid_row": null,
       "grid_template_areas": null,
       "grid_template_columns": null,
       "grid_template_rows": null,
       "height": null,
       "justify_content": null,
       "justify_items": null,
       "left": null,
       "margin": null,
       "max_height": null,
       "max_width": null,
       "min_height": null,
       "min_width": null,
       "object_fit": null,
       "object_position": null,
       "order": null,
       "overflow": null,
       "padding": null,
       "right": null,
       "top": null,
       "visibility": null,
       "width": null
      }
     },
     "bf0b64728db74a56817ad72cd621a5c8": {
      "model_module": "@jupyter-widgets/controls",
      "model_module_version": "2.0.0",
      "model_name": "ProgressStyleModel",
      "state": {
       "_model_module": "@jupyter-widgets/controls",
       "_model_module_version": "2.0.0",
       "_model_name": "ProgressStyleModel",
       "_view_count": null,
       "_view_module": "@jupyter-widgets/base",
       "_view_module_version": "2.0.0",
       "_view_name": "StyleView",
       "bar_color": null,
       "description_width": ""
      }
     },
     "c08ad60b032b4f16b481b2167312f87a": {
      "model_module": "@jupyter-widgets/base",
      "model_module_version": "2.0.0",
      "model_name": "LayoutModel",
      "state": {
       "_model_module": "@jupyter-widgets/base",
       "_model_module_version": "2.0.0",
       "_model_name": "LayoutModel",
       "_view_count": null,
       "_view_module": "@jupyter-widgets/base",
       "_view_module_version": "2.0.0",
       "_view_name": "LayoutView",
       "align_content": null,
       "align_items": null,
       "align_self": null,
       "border_bottom": null,
       "border_left": null,
       "border_right": null,
       "border_top": null,
       "bottom": null,
       "display": null,
       "flex": null,
       "flex_flow": null,
       "grid_area": null,
       "grid_auto_columns": null,
       "grid_auto_flow": null,
       "grid_auto_rows": null,
       "grid_column": null,
       "grid_gap": null,
       "grid_row": null,
       "grid_template_areas": null,
       "grid_template_columns": null,
       "grid_template_rows": null,
       "height": null,
       "justify_content": null,
       "justify_items": null,
       "left": null,
       "margin": null,
       "max_height": null,
       "max_width": null,
       "min_height": null,
       "min_width": null,
       "object_fit": null,
       "object_position": null,
       "order": null,
       "overflow": null,
       "padding": null,
       "right": null,
       "top": null,
       "visibility": null,
       "width": null
      }
     },
     "c5fb938ffcb141c2a8720ef235704bca": {
      "model_module": "@jupyter-widgets/base",
      "model_module_version": "2.0.0",
      "model_name": "LayoutModel",
      "state": {
       "_model_module": "@jupyter-widgets/base",
       "_model_module_version": "2.0.0",
       "_model_name": "LayoutModel",
       "_view_count": null,
       "_view_module": "@jupyter-widgets/base",
       "_view_module_version": "2.0.0",
       "_view_name": "LayoutView",
       "align_content": null,
       "align_items": null,
       "align_self": null,
       "border_bottom": null,
       "border_left": null,
       "border_right": null,
       "border_top": null,
       "bottom": null,
       "display": null,
       "flex": null,
       "flex_flow": null,
       "grid_area": null,
       "grid_auto_columns": null,
       "grid_auto_flow": null,
       "grid_auto_rows": null,
       "grid_column": null,
       "grid_gap": null,
       "grid_row": null,
       "grid_template_areas": null,
       "grid_template_columns": null,
       "grid_template_rows": null,
       "height": null,
       "justify_content": null,
       "justify_items": null,
       "left": null,
       "margin": null,
       "max_height": null,
       "max_width": null,
       "min_height": null,
       "min_width": null,
       "object_fit": null,
       "object_position": null,
       "order": null,
       "overflow": null,
       "padding": null,
       "right": null,
       "top": null,
       "visibility": null,
       "width": null
      }
     },
     "cf726692ed0d404e9ffe3e7dc532007b": {
      "model_module": "@jupyter-widgets/controls",
      "model_module_version": "2.0.0",
      "model_name": "HTMLModel",
      "state": {
       "_dom_classes": [],
       "_model_module": "@jupyter-widgets/controls",
       "_model_module_version": "2.0.0",
       "_model_name": "HTMLModel",
       "_view_count": null,
       "_view_module": "@jupyter-widgets/controls",
       "_view_module_version": "2.0.0",
       "_view_name": "HTMLView",
       "description": "",
       "description_allow_html": false,
       "layout": "IPY_MODEL_317170f8796e4c0a8577c6eee9f59436",
       "placeholder": "​",
       "style": "IPY_MODEL_9f1fdaf1425e461bb79b2a139f598e8b",
       "tabbable": null,
       "tooltip": null,
       "value": " 112/112 [00:00&lt;00:00, 12.6kB/s]"
      }
     },
     "d223fbedb6c2416b97d92995884b4ebf": {
      "model_module": "@jupyter-widgets/controls",
      "model_module_version": "2.0.0",
      "model_name": "HBoxModel",
      "state": {
       "_dom_classes": [],
       "_model_module": "@jupyter-widgets/controls",
       "_model_module_version": "2.0.0",
       "_model_name": "HBoxModel",
       "_view_count": null,
       "_view_module": "@jupyter-widgets/controls",
       "_view_module_version": "2.0.0",
       "_view_name": "HBoxView",
       "box_style": "",
       "children": [
        "IPY_MODEL_23231696d7b145cb9ddc6d4460154efa",
        "IPY_MODEL_97098945cc36426383695b8451e1a234",
        "IPY_MODEL_87c957ca37454166b8c47d45f0465875"
       ],
       "layout": "IPY_MODEL_bede09b5ece1446e8ff4d3a9dc5b1a1a",
       "tabbable": null,
       "tooltip": null
      }
     },
     "d655d294f921443eb2ad6a99541d022c": {
      "model_module": "@jupyter-widgets/controls",
      "model_module_version": "2.0.0",
      "model_name": "HTMLStyleModel",
      "state": {
       "_model_module": "@jupyter-widgets/controls",
       "_model_module_version": "2.0.0",
       "_model_name": "HTMLStyleModel",
       "_view_count": null,
       "_view_module": "@jupyter-widgets/base",
       "_view_module_version": "2.0.0",
       "_view_name": "StyleView",
       "background": null,
       "description_width": "",
       "font_size": null,
       "text_color": null
      }
     },
     "d7619c82e6574af4a08d17a7cdeeeb93": {
      "model_module": "@jupyter-widgets/controls",
      "model_module_version": "2.0.0",
      "model_name": "ProgressStyleModel",
      "state": {
       "_model_module": "@jupyter-widgets/controls",
       "_model_module_version": "2.0.0",
       "_model_name": "ProgressStyleModel",
       "_view_count": null,
       "_view_module": "@jupyter-widgets/base",
       "_view_module_version": "2.0.0",
       "_view_name": "StyleView",
       "bar_color": null,
       "description_width": ""
      }
     },
     "dfad7d62a91c4ccf8439f8f01a962d23": {
      "model_module": "@jupyter-widgets/controls",
      "model_module_version": "2.0.0",
      "model_name": "HTMLStyleModel",
      "state": {
       "_model_module": "@jupyter-widgets/controls",
       "_model_module_version": "2.0.0",
       "_model_name": "HTMLStyleModel",
       "_view_count": null,
       "_view_module": "@jupyter-widgets/base",
       "_view_module_version": "2.0.0",
       "_view_name": "StyleView",
       "background": null,
       "description_width": "",
       "font_size": null,
       "text_color": null
      }
     },
     "e1a2376942104390b64e8ff842f0738f": {
      "model_module": "@jupyter-widgets/base",
      "model_module_version": "2.0.0",
      "model_name": "LayoutModel",
      "state": {
       "_model_module": "@jupyter-widgets/base",
       "_model_module_version": "2.0.0",
       "_model_name": "LayoutModel",
       "_view_count": null,
       "_view_module": "@jupyter-widgets/base",
       "_view_module_version": "2.0.0",
       "_view_name": "LayoutView",
       "align_content": null,
       "align_items": null,
       "align_self": null,
       "border_bottom": null,
       "border_left": null,
       "border_right": null,
       "border_top": null,
       "bottom": null,
       "display": null,
       "flex": null,
       "flex_flow": null,
       "grid_area": null,
       "grid_auto_columns": null,
       "grid_auto_flow": null,
       "grid_auto_rows": null,
       "grid_column": null,
       "grid_gap": null,
       "grid_row": null,
       "grid_template_areas": null,
       "grid_template_columns": null,
       "grid_template_rows": null,
       "height": null,
       "justify_content": null,
       "justify_items": null,
       "left": null,
       "margin": null,
       "max_height": null,
       "max_width": null,
       "min_height": null,
       "min_width": null,
       "object_fit": null,
       "object_position": null,
       "order": null,
       "overflow": null,
       "padding": null,
       "right": null,
       "top": null,
       "visibility": null,
       "width": null
      }
     },
     "e7a4ac2980b24f178a659630866ecbaf": {
      "model_module": "@jupyter-widgets/base",
      "model_module_version": "2.0.0",
      "model_name": "LayoutModel",
      "state": {
       "_model_module": "@jupyter-widgets/base",
       "_model_module_version": "2.0.0",
       "_model_name": "LayoutModel",
       "_view_count": null,
       "_view_module": "@jupyter-widgets/base",
       "_view_module_version": "2.0.0",
       "_view_name": "LayoutView",
       "align_content": null,
       "align_items": null,
       "align_self": null,
       "border_bottom": null,
       "border_left": null,
       "border_right": null,
       "border_top": null,
       "bottom": null,
       "display": null,
       "flex": null,
       "flex_flow": null,
       "grid_area": null,
       "grid_auto_columns": null,
       "grid_auto_flow": null,
       "grid_auto_rows": null,
       "grid_column": null,
       "grid_gap": null,
       "grid_row": null,
       "grid_template_areas": null,
       "grid_template_columns": null,
       "grid_template_rows": null,
       "height": null,
       "justify_content": null,
       "justify_items": null,
       "left": null,
       "margin": null,
       "max_height": null,
       "max_width": null,
       "min_height": null,
       "min_width": null,
       "object_fit": null,
       "object_position": null,
       "order": null,
       "overflow": null,
       "padding": null,
       "right": null,
       "top": null,
       "visibility": null,
       "width": null
      }
     },
     "f01145954dc04e9bbf749bf464a7d15f": {
      "model_module": "@jupyter-widgets/controls",
      "model_module_version": "2.0.0",
      "model_name": "HTMLStyleModel",
      "state": {
       "_model_module": "@jupyter-widgets/controls",
       "_model_module_version": "2.0.0",
       "_model_name": "HTMLStyleModel",
       "_view_count": null,
       "_view_module": "@jupyter-widgets/base",
       "_view_module_version": "2.0.0",
       "_view_name": "StyleView",
       "background": null,
       "description_width": "",
       "font_size": null,
       "text_color": null
      }
     },
     "f529a3f6158348e7ad7a26f12a47295b": {
      "model_module": "@jupyter-widgets/base",
      "model_module_version": "2.0.0",
      "model_name": "LayoutModel",
      "state": {
       "_model_module": "@jupyter-widgets/base",
       "_model_module_version": "2.0.0",
       "_model_name": "LayoutModel",
       "_view_count": null,
       "_view_module": "@jupyter-widgets/base",
       "_view_module_version": "2.0.0",
       "_view_name": "LayoutView",
       "align_content": null,
       "align_items": null,
       "align_self": null,
       "border_bottom": null,
       "border_left": null,
       "border_right": null,
       "border_top": null,
       "bottom": null,
       "display": null,
       "flex": null,
       "flex_flow": null,
       "grid_area": null,
       "grid_auto_columns": null,
       "grid_auto_flow": null,
       "grid_auto_rows": null,
       "grid_column": null,
       "grid_gap": null,
       "grid_row": null,
       "grid_template_areas": null,
       "grid_template_columns": null,
       "grid_template_rows": null,
       "height": null,
       "justify_content": null,
       "justify_items": null,
       "left": null,
       "margin": null,
       "max_height": null,
       "max_width": null,
       "min_height": null,
       "min_width": null,
       "object_fit": null,
       "object_position": null,
       "order": null,
       "overflow": null,
       "padding": null,
       "right": null,
       "top": null,
       "visibility": null,
       "width": null
      }
     },
     "f971b330be2449d8af42963954905828": {
      "model_module": "@jupyter-widgets/controls",
      "model_module_version": "2.0.0",
      "model_name": "HTMLModel",
      "state": {
       "_dom_classes": [],
       "_model_module": "@jupyter-widgets/controls",
       "_model_module_version": "2.0.0",
       "_model_name": "HTMLModel",
       "_view_count": null,
       "_view_module": "@jupyter-widgets/controls",
       "_view_module_version": "2.0.0",
       "_view_name": "HTMLView",
       "description": "",
       "description_allow_html": false,
       "layout": "IPY_MODEL_23975d73538744099eac6d055e843a89",
       "placeholder": "​",
       "style": "IPY_MODEL_b4966cd734f442a1b0469168264ad228",
       "tabbable": null,
       "tooltip": null,
       "value": "vocab.txt: 100%"
      }
     }
    },
    "version_major": 2,
    "version_minor": 0
   }
  }
 },
 "nbformat": 4,
 "nbformat_minor": 5
}
